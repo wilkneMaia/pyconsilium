{
 "cells": [
  {
   "cell_type": "markdown",
   "id": "88687f79",
   "metadata": {},
   "source": [
    "# 🎯 Desenhar um Losango com Dígitos\n",
    "\n",
    "Este notebook apresenta uma abordagem passo a passo para criar um losango numérico usando Python, demonstrando conceitos importantes de programação como decomposição de problemas, formatação de strings e expressões geradoras."
   ]
  },
  {
   "cell_type": "markdown",
   "id": "6e2e9571",
   "metadata": {},
   "source": [
    "## 🎯 O Desafio\n",
    "\n",
    "**Objetivo:** Criar um losango numérico onde cada linha contém uma sequência de dígitos que cresce até o centro e depois decresce.\n",
    "\n",
    "**Exemplo de saída para N=2:**\n",
    "```\n",
    "  0  \n",
    " 010 \n",
    "01210\n",
    " 010 \n",
    "  0  \n",
    "```\n",
    "\n",
    "### 💡 Estratégias de Resolução\n",
    "\n",
    "#### ❌ Abordagem Direta (Não Recomendada)\n",
    "- Tentar resolver tudo de uma vez\n",
    "- Resulta em código complexo e difícil de manter\n",
    "- Maior chance de erros\n",
    "\n",
    "#### ✅ Abordagem Incremental (Recomendada)\n",
    "- Decompor o problema em etapas menores\n",
    "- Cada etapa resolve um aspecto específico\n",
    "- Facilita testes e depuração\n",
    "- Código mais limpo e reutilizável\n",
    "\n",
    "### 🎯 Nossa Estratégia\n",
    "\n",
    "Vamos dividir o problema em 5 etapas principais:\n",
    "1. **Centralizar texto** - Alinhar números no centro da linha\n",
    "2. **Gerar sequência** - Criar padrão 0...N...0\n",
    "3. **Converter para texto** - Transformar números em string\n",
    "4. **Criar linha** - Combinar sequência + centralização\n",
    "5. **Montar losango** - Empilhar todas as linhas\n"
   ]
  },
  {
   "cell_type": "markdown",
   "id": "13372304",
   "metadata": {},
   "source": [
    "## 📋 Índice do Tutorial\n",
    "\n",
    "1. [🔧 Centralizar Texto](#centralizar)\n",
    "2. [🔢 Gerar Sequência Numérica](#sequencia)\n",
    "3. [📝 Converter para Texto](#converter)\n",
    "4. [📏 Criar Linha](#linha)\n",
    "5. [💎 Montar Losango](#losango)\n",
    "6. [🎮 Interface Interativa](#interativa)\n",
    "\n",
    "---\n"
   ]
  },
  {
   "cell_type": "markdown",
   "id": "bce0e442",
   "metadata": {},
   "source": [
    "## 🔧 Centralizar Texto {#centralizar}\n",
    "\n",
    "Para criar um losango visualmente agradável, precisamos centralizar cada linha de números. Vamos implementar uma função que adiciona espaços nas laterais para alinhar o texto no centro.\n",
    "\n",
    "### 💡 Conceito\n",
    "A centralização funciona calculando quantos espaços adicionar nas laterais:\n",
    "- **Margem** = `(largura_total - largura_do_texto) ÷ 2`\n",
    "\n",
    "### 🛠️ Implementação"
   ]
  },
  {
   "cell_type": "code",
   "execution_count": 1,
   "id": "35315a99",
   "metadata": {},
   "outputs": [
    {
     "name": "stdout",
     "output_type": "stream",
     "text": [
      "'01234'\n"
     ]
    }
   ],
   "source": [
    "def centraliza(texto, largura):\n",
    "    \"\"\"\n",
    "    Centraliza um texto dentro de uma largura especificada.\n",
    "\n",
    "    Args:\n",
    "        texto (str): O texto a ser centralizado\n",
    "        largura (int): A largura total desejada\n",
    "\n",
    "    Returns:\n",
    "        str: Texto centralizado com espaços nas laterais\n",
    "    \"\"\"\n",
    "    margem = (largura - len(texto)) // 2\n",
    "    return ' ' * margem + texto + ' ' * margem\n",
    "\n",
    "# Exemplo de uso\n",
    "resultado = centraliza('01234', 6)\n",
    "print(f\"'{resultado}'\")  # Saída: '01234'"
   ]
  },
  {
   "cell_type": "markdown",
   "id": "e02242be",
   "metadata": {},
   "source": [
    "# Testes de verificação"
   ]
  },
  {
   "cell_type": "code",
   "execution_count": 2,
   "id": "83ded076",
   "metadata": {},
   "outputs": [
    {
     "name": "stdout",
     "output_type": "stream",
     "text": [
      "✅ Todos os testes passaram!\n"
     ]
    }
   ],
   "source": [
    "assert centraliza(\"0\", 6) == \"  0  \"  # Testa centralização de um único caractere\n",
    "assert centraliza(\"012\", 6) == \" 012 \"  # Testa centralização de três caracteres\n",
    "assert centraliza(\"01234\", 6) == \"01234\"  # Testa centralização sem margens adicionais\n",
    "\n",
    "print(\"✅ Todos os testes passaram!\")"
   ]
  },
  {
   "cell_type": "markdown",
   "id": "c7f26ff0",
   "metadata": {},
   "source": [
    "### 🎨 Versões Alternativas\n",
    "\n",
    "**Versão com f-string (mais moderna):**\n",
    "```python\n",
    "def centraliza(texto, largura):\n",
    "    return f\"{texto:^{largura}}\"\n",
    "```\n",
    "\n",
    "**Versão com format():**\n",
    "```python\n",
    "def centraliza(texto, largura):\n",
    "    return \"{:^{}}\".format(texto, largura)\n",
    "```"
   ]
  },
  {
   "cell_type": "markdown",
   "id": "35bac26f",
   "metadata": {},
   "source": [
    "---"
   ]
  },
  {
   "cell_type": "markdown",
   "id": "f5367d1e",
   "metadata": {},
   "source": [
    "## 🔢 Gerar Sequência Numérica {#sequencia}\n",
    "\n",
    "# Agora vamos criar a sequência numérica que forma cada linha do losango. Precisamos de um padrão que cresce de 0 até N e depois decresce até 0.\n",
    "\n",
    "### 💡 Conceito\n",
    "Para N=2, queremos: `[0, 1, 2, 1, 0]`\n",
    "- Primeira parte: `range(0, N+1)` → `[0, 1, 2]`\n",
    "- Segunda parte: `range(N-1, -1, -1)` → `[1, 0]`\n",
    "- Combinadas: `[0, 1, 2, 1, 0]`\n",
    "\n",
    "### 🛠️ Implementação\n",
    "\n",
    "def intervalo(n):\n",
    "    \"\"\"\n",
    "    Gera uma sequência numérica que cresce de 0 até n e depois decresce até 0.\n",
    "    \n",
    "    Args:\n",
    "        n (int): O número máximo da sequência\n",
    "        \n",
    "    Returns:\n",
    "        list: Lista com o padrão [0, 1, 2, ..., n, ..., 2, 1, 0]\n",
    "    \"\"\"\n",
    "    return [*range(n), *range(n, -1, -1)]"
   ]
  },
  {
   "cell_type": "markdown",
   "id": "6b9be3ed",
   "metadata": {},
   "source": [
    "# Exemplos"
   ]
  },
  {
   "cell_type": "code",
   "execution_count": 3,
   "id": "647133ea",
   "metadata": {},
   "outputs": [
    {
     "name": "stdout",
     "output_type": "stream",
     "text": [
      "N=0: [0]\n",
      "N=1: [0, 1, 0]\n",
      "N=2: [0, 1, 2, 1, 0]\n"
     ]
    }
   ],
   "source": [
    "def intervalo(n):\n",
    "    \"\"\"\n",
    "    Gera uma sequência numérica que cresce de 0 até n e depois decresce até 0.\n",
    "\n",
    "    Args:\n",
    "        n (int): O número máximo da sequência\n",
    "\n",
    "    Returns:\n",
    "        list: Lista com o padrão [0, 1, 2, ..., n, ..., 2, 1, 0]\n",
    "    \"\"\"\n",
    "    return [*range(n), *range(n, -1, -1)]\n",
    "\n",
    "# Exemplos\n",
    "print(f\"N=0: {intervalo(0)}\")  # [0]\n",
    "print(f\"N=1: {intervalo(1)}\")  # [0, 1, 0]\n",
    "print(f\"N=2: {intervalo(2)}\")  # [0, 1, 2, 1, 0]"
   ]
  },
  {
   "cell_type": "markdown",
   "id": "95f781ca",
   "metadata": {},
   "source": [
    "# Testes de verificação"
   ]
  },
  {
   "cell_type": "code",
   "execution_count": 4,
   "id": "16e2b37b",
   "metadata": {},
   "outputs": [
    {
     "name": "stdout",
     "output_type": "stream",
     "text": [
      "✅ Todos os testes da função intervalo passaram!\n"
     ]
    }
   ],
   "source": [
    "# Testes de verificação\n",
    "assert intervalo(0) == [0]\n",
    "assert intervalo(1) == [0, 1, 0]\n",
    "assert intervalo(2) == [0, 1, 2, 1, 0]\n",
    "assert intervalo(3) == [0, 1, 2, 3, 2, 1, 0]\n",
    "\n",
    "print(\"✅ Todos os testes da função intervalo passaram!\")"
   ]
  },
  {
   "cell_type": "markdown",
   "id": "80f47b96",
   "metadata": {},
   "source": [
    "---"
   ]
  },
  {
   "cell_type": "markdown",
   "id": "6d54243f",
   "metadata": {},
   "source": [
    "## 📝 Converter para Texto {#converter}\n",
    "\n",
    "Agora vamos transformar a sequência numérica em uma string. Vamos usar técnicas eficientes para evitar problemas de performance.\n",
    "\n",
    "### 💡 Conceito\n",
    "Converter `[0, 1, 2, 1, 0]` → `\"01210\"`\n",
    "\n",
    "### ⚠️ Problema com Concatenação Direta\n",
    "```python\n",
    "# ❌ Ineficiente - cria nova string a cada concatenação\n",
    "s = \"\"\n",
    "for n in numeros:\n",
    "    s += str(n)  # Lento para listas grandes\n",
    "```\n",
    "\n",
    "### ✅ Solução Eficiente com join()\n",
    "```python\n",
    "# ✅ Eficiente - concatena tudo de uma vez\n",
    "\"\".join(str(n) for n in numeros)\n",
    "```\n",
    "\n",
    "### 🛠️ Implementação"
   ]
  },
  {
   "cell_type": "code",
   "execution_count": 5,
   "id": "48b795a0",
   "metadata": {},
   "outputs": [
    {
     "name": "stdout",
     "output_type": "stream",
     "text": [
      "text([0,1,2,1,0]) = '01210'\n",
      "text(intervalo(2)) = '01210'\n"
     ]
    }
   ],
   "source": [
    "def text(numeros):\n",
    "    \"\"\"\n",
    "    Converte uma lista de números em uma string.\n",
    "\n",
    "    Args:\n",
    "        numeros (list): Lista de números inteiros\n",
    "\n",
    "    Returns:\n",
    "        str: String com todos os números concatenados\n",
    "    \"\"\"\n",
    "    return \"\".join(str(n) for n in numeros)\n",
    "\n",
    "# Exemplos\n",
    "print(f\"text([0,1,2,1,0]) = '{text([0,1,2,1,0])}'\")\n",
    "print(f\"text(intervalo(2)) = '{text(intervalo(2))}'\")"
   ]
  },
  {
   "cell_type": "markdown",
   "id": "8f5b9775",
   "metadata": {},
   "source": [
    "# Testes de verificação"
   ]
  },
  {
   "cell_type": "code",
   "execution_count": 6,
   "id": "10774e3d",
   "metadata": {},
   "outputs": [
    {
     "name": "stdout",
     "output_type": "stream",
     "text": [
      "✅ Todos os testes da função text passaram!\n"
     ]
    }
   ],
   "source": [
    "assert text([0, 1, 2, 1, 0]) == \"01210\"\n",
    "assert text(intervalo(2)) == \"01210\"\n",
    "assert text(intervalo(9)) == \"0123456789876543210\"\n",
    "\n",
    "print(\"✅ Todos os testes da função text passaram!\")"
   ]
  },
  {
   "cell_type": "markdown",
   "id": "42804139",
   "metadata": {},
   "source": [
    "---"
   ]
  },
  {
   "cell_type": "markdown",
   "id": "0af25eca",
   "metadata": {},
   "source": [
    "## 📏 Criar Linha {#linha}\n",
    "\n",
    "Agora vamos combinar as funções anteriores para criar uma linha centralizada do losango.\n",
    "\n",
    "### 💡 Conceito\n",
    "Para N=2 e largura=5:\n",
    "1. Gerar sequência: `intervalo(2)` → `[0,1,2,1,0]`\n",
    "2. Converter para texto: `text([0,1,2,1,0])` → `\"01210\"`\n",
    "3. Centralizar: `centraliza(\"01210\", 5)` → `\"01210\"`\n",
    "\n",
    "### 🛠️ Implementação"
   ]
  },
  {
   "cell_type": "code",
   "execution_count": 7,
   "id": "e9986f01",
   "metadata": {},
   "outputs": [
    {
     "name": "stdout",
     "output_type": "stream",
     "text": [
      "linha(0, 5) = '  0  '\n",
      "linha(1, 5) = ' 010 '\n",
      "linha(2, 5) = '01210'\n"
     ]
    }
   ],
   "source": [
    "def linha(n, largura):\n",
    "    \"\"\"\n",
    "    Cria uma linha centralizada do losango.\n",
    "\n",
    "    Args:\n",
    "        n (int): O número máximo da sequência\n",
    "        largura (int): A largura total da linha\n",
    "\n",
    "    Returns:\n",
    "        str: Linha centralizada com a sequência numérica\n",
    "    \"\"\"\n",
    "    return centraliza(text(intervalo(n)), largura)\n",
    "\n",
    "# Exemplos\n",
    "print(f\"linha(0, 5) = '{linha(0, 5)}'\")  # \"  0  \"\n",
    "print(f\"linha(1, 5) = '{linha(1, 5)}'\")  # \" 010 \"\n",
    "print(f\"linha(2, 5) = '{linha(2, 5)}'\")  # \"01210\""
   ]
  },
  {
   "cell_type": "markdown",
   "id": "87db5153",
   "metadata": {},
   "source": [
    "# Testes de verificação\n",
    "assert linha(0, 5) == \"  0  \"\n",
    "assert linha(1, 5) == \" 010 \"\n",
    "assert linha(2, 5) == \"01210\"\n",
    "\n",
    "print(\"✅ Todos os testes da função linha passaram!\")"
   ]
  },
  {
   "cell_type": "code",
   "execution_count": null,
   "id": "6c84dcf5",
   "metadata": {},
   "outputs": [],
   "source": []
  },
  {
   "cell_type": "code",
   "execution_count": null,
   "id": "40299b71",
   "metadata": {},
   "outputs": [],
   "source": [
    "## 💎 Montar Losango {#losango}\n",
    "\n",
    "Agora vamos combinar todas as linhas para formar o losango completo!\n",
    "\n",
    "### 💡 Conceito\n",
    "Para N=2, precisamos das linhas:\n",
    "- `linha(0, 5)` → `\"  0  \"`\n",
    "- `linha(1, 5)` → `\" 010 \"`\n",
    "- `linha(2, 5)` → `\"01210\"`\n",
    "- `linha(1, 5)` → `\" 010 \"`\n",
    "- `linha(0, 5)` → `\"  0  \"`\n",
    "\n",
    "### 🛠️ Implementação"
   ]
  },
  {
   "cell_type": "markdown",
   "id": "be36bc75",
   "metadata": {},
   "source": [
    "def losango(tamanho):\n",
    "    \"\"\"\n",
    "    Cria um losango numérico completo.\n",
    "    \n",
    "    Args:\n",
    "        tamanho (int): O tamanho máximo do losango\n",
    "        \n",
    "    Returns:\n",
    "        str: Losango formatado com quebras de linha\n",
    "    \"\"\"\n",
    "    largura = tamanho * 2 + 1\n",
    "    return \"\\n\".join(linha(n, largura) for n in intervalo(tamanho))\n",
    "\n",
    "# Exemplo\n",
    "print(\"Losango para N=2:\")\n",
    "print(losango(2))"
   ]
  },
  {
   "cell_type": "code",
   "execution_count": null,
   "id": "e67e101c",
   "metadata": {},
   "outputs": [],
   "source": [
    "# Teste de verificação\n",
    "expected = \"  0  \\n 010 \\n01210\\n 010 \\n  0  \"\n",
    "assert losango(2) == expected\n",
    "\n",
    "print(\"✅ Teste do losango passou!\")\n",
    "print(\"\\nLosango para N=3:\")\n",
    "print(losango(3))"
   ]
  },
  {
   "cell_type": "markdown",
   "id": "5e3b3b3a",
   "metadata": {},
   "source": [
    "## 🎮 Interface Interativa {#interativa}\n",
    "\n",
    "Agora vamos criar uma interface interativa para explorar diferentes tamanhos de losango!\n",
    "\n",
    "### 🛠️ Implementação"
   ]
  },
  {
   "cell_type": "markdown",
   "id": "0c478e87",
   "metadata": {},
   "source": [
    "from ipywidgets import interact\n",
    "\n",
    "# Interface interativa para explorar diferentes tamanhos\n",
    "interact(lambda n: print(losango(n)), n=(0, 9, 1))"
   ]
  },
  {
   "cell_type": "code",
   "execution_count": null,
   "id": "3ede7706",
   "metadata": {},
   "outputs": [],
   "source": [
    "## 🎉 Resumo\n",
    "\n",
    "Parabéns! Você aprendeu a criar um losango numérico usando Python. Aqui está o que construímos:\n",
    "\n",
    "### 📚 Conceitos Aprendidos\n",
    "- **Decomposição de problemas** - Dividir um problema complexo em partes menores\n",
    "- **Formatação de strings** - Centralizar texto com espaços\n",
    "- **Expressões geradoras** - Criar sequências eficientemente\n",
    "- **Funções modulares** - Cada função tem uma responsabilidade específica\n",
    "- **Testes automatizados** - Verificar se o código funciona corretamente\n",
    "\n",
    "### 🔧 Funções Criadas\n",
    "1. `centraliza(texto, largura)` - Centraliza texto\n",
    "2. `intervalo(n)` - Gera sequência 0...n...0\n",
    "3. `text(numeros)` - Converte números em string\n",
    "4. `linha(n, largura)` - Cria uma linha do losango\n",
    "5. `losango(tamanho)` - Monta o losango completo\n",
    "\n",
    "### 🚀 Próximos Passos\n",
    "- Experimente com diferentes tamanhos usando a interface interativa\n",
    "- Modifique as funções para criar outros padrões geométricos\n",
    "- Adicione cores ou caracteres especiais ao losango"
   ]
  },
  {
   "cell_type": "markdown",
   "id": "eefc5d4b",
   "metadata": {},
   "source": [
    "### Conversão com list()\n",
    "\n",
    "Convertendo a saída de range() para uma lista com list(), podemos manipular esses números facilmente:"
   ]
  },
  {
   "cell_type": "code",
   "execution_count": null,
   "id": "26dda9a6",
   "metadata": {},
   "outputs": [],
   "source": [
    "# Converte um range em lista\n",
    "lista = list(range(n))\n",
    "\n",
    "print(lista)"
   ]
  },
  {
   "cell_type": "markdown",
   "id": "265f6272",
   "metadata": {},
   "source": [
    "### Implementação da Função intervalo.\n",
    "\n",
    "Combinamos duas sequências geradas por range() para formar a sequência de 0 até N e de volta a 0, essencial para cada linha do losango:"
   ]
  },
  {
   "cell_type": "code",
   "execution_count": null,
   "id": "2a7a1d1d",
   "metadata": {},
   "outputs": [],
   "source": [
    "def intervalo(n):\n",
    "    # Gera uma lista aumentando até n e depois diminuindo até 0\n",
    "    return list(range(n)) + list(range(n, -1, -1))"
   ]
  },
  {
   "cell_type": "markdown",
   "id": "03b139b8",
   "metadata": {},
   "source": [
    "#### Testes de Verificação.\n",
    "\n",
    "Testes são realizados para garantir que a função intervalo está produzindo as saídas esperadas para diferentes valores:"
   ]
  },
  {
   "cell_type": "code",
   "execution_count": null,
   "id": "076b03fb",
   "metadata": {},
   "outputs": [],
   "source": [
    "assert intervalo(0) == [0]                          # Testa o caso base com n = 0\n",
    "assert intervalo(1) == [0, 1, 0]                    # Testa com n = 1\n",
    "assert intervalo(2) == [0, 1, 2, 1, 0]              # Testa com n = 2\n",
    "assert intervalo(3) == [0, 1, 2, 3, 2, 1, 0]         # Testa com n = 3\n",
    "assert intervalo(9) == [0, 1, 2, 3, 4, 5, 6, 7, 8, 9, 8, 7, 6, 5, 4, 3, 2, 1, 0]  # Testa com n = 9\n",
    "\n",
    "resultado = intervalo(3)\n",
    "resultado  # Saída: [0, 1, 2, 3, 4, 5, 6, 7, 8, 9, 8, 7, 6, 5, 4, 3, 2, 1, 0]"
   ]
  },
  {
   "cell_type": "markdown",
   "id": "57796218",
   "metadata": {},
   "source": [
    "#### Exemplo Adicional\n",
    "Aqui está um exemplo prático mostrando como combinar duas listas geradas por range() para formar uma única sequência:"
   ]
  },
  {
   "cell_type": "code",
   "execution_count": null,
   "id": "922582e9",
   "metadata": {},
   "outputs": [],
   "source": [
    "# Combinação de duas listas geradas por range\n",
    "list(range(2)) + list(range(2, -1, -1))  # Resultado: [0, 1, 2, 1, 0]\n",
    "\n",
    "resultado = list(range(2)) + list(range(2, -1, -1))\n",
    "resultado  # Saída: [0, 1, 2, 1, 0]"
   ]
  },
  {
   "cell_type": "markdown",
   "id": "03a46344",
   "metadata": {},
   "source": [
    "Este método simplifica significativamente a criação de padrões numéricos complexos, tornando o código mais legível e eficiente."
   ]
  },
  {
   "cell_type": "markdown",
   "id": "3c05f1ac",
   "metadata": {},
   "source": [
    "### Utilizando Lista Literal com Desempacotamento\n",
    "\n",
    "A técnica de desempacotamento em listas literais permite uma maneira concisa e expressiva de combinar sequências em uma única lista. Este método é particularmente útil para criar listas que necessitam de elementos de múltiplas fontes, como a função `range()`.\n",
    "\n",
    "#### Implementação da Função `intervalo` com Desempacotamento\n",
    "\n",
    "Utilizamos o desempacotamento para combinar duas sequências de `range()` em uma única lista, formando a sequência numérica desejada de 0 até N e de volta a 0:"
   ]
  },
  {
   "cell_type": "code",
   "execution_count": null,
   "id": "2b19672f",
   "metadata": {},
   "outputs": [],
   "source": [
    "def intervalo(n):\n",
    "    # Uso de lista literal com desempacotamento para combinar duas sequências de range\n",
    "    return [*range(n), *range(n, -1, -1)]"
   ]
  },
  {
   "cell_type": "markdown",
   "id": "b95bfeca",
   "metadata": {},
   "source": [
    "#### Testes de Verificação\n",
    "Verificamos a corretude da função intervalo usando declarações assert para assegurar que as sequências numéricas estão corretas para vários valores de N:"
   ]
  },
  {
   "cell_type": "code",
   "execution_count": null,
   "id": "23b97e6d",
   "metadata": {},
   "outputs": [],
   "source": [
    "assert intervalo(0) == [0]                          # Testa o caso base com n = 0\n",
    "assert intervalo(1) == [0, 1, 0]                    # Testa com n = 1\n",
    "assert intervalo(2) == [0, 1, 2, 1, 0]              # Testa com n = 2\n",
    "assert intervalo(9) == [0, 1, 2, 3, 4, 5, 6, 7, 8, 9, 8, 7, 6, 5, 4, 3, 2, 1, 0]  # Testa com n = 9\n",
    "\n",
    "resultado = intervalo(3)\n",
    "resultado  # Saída: [0, 1, 2, 3, 2, 1, 0]"
   ]
  },
  {
   "cell_type": "markdown",
   "id": "e09d46e7",
   "metadata": {},
   "source": [
    "#### Exemplo Adicional\n",
    "Para ilustrar o uso de desempacotamento em listas literais com um valor específico de N:"
   ]
  },
  {
   "cell_type": "code",
   "execution_count": null,
   "id": "383d85d7",
   "metadata": {},
   "outputs": [],
   "source": [
    "n = 2\n",
    "lista_resultante = [*range(n), *range(n, -1, -1)]\n",
    "\n",
    "resultado = [*range(2), *range(2, -1, -1)]\n",
    "resultado  # Saída: [0, 1, 2, 1, 0]\n"
   ]
  },
  {
   "cell_type": "markdown",
   "id": "851996d1",
   "metadata": {},
   "source": [
    "Este exemplo demonstra como é fácil e eficiente criar listas complexas utilizando desempacotamento, o que torna o código mais limpo e fácil de entender."
   ]
  },
  {
   "cell_type": "markdown",
   "id": "9fce8198",
   "metadata": {},
   "source": [
    "## Como Transformar o Intervalo em Texto?\n",
    "\n",
    "Converter uma sequência de números em uma única string é uma tarefa comum que pode ser otimizada para evitar problemas de desempenho associados com a imutabilidade das strings em Python.\n",
    "\n",
    "### Implementação Inicial da Função `text`\n",
    "\n",
    "Inicialmente, podemos pensar em concatenar diretamente dentro de um loop, o que é intuitivo, mas não o mais eficiente:"
   ]
  },
  {
   "cell_type": "code",
   "execution_count": null,
   "id": "a91a9064",
   "metadata": {},
   "outputs": [],
   "source": [
    "def text(numeros):\n",
    "    s = \"\"\n",
    "    for n in numeros:\n",
    "        s += str(n)  # Concatena cada número convertido para string\n",
    "    return s\n",
    "\n",
    "# Exemplo de uso\n",
    "resultado = text(intervalo(2))\n",
    "print(resultado)  # Saída: '01210'"
   ]
  },
  {
   "cell_type": "markdown",
   "id": "2b0c1c74",
   "metadata": {},
   "source": [
    "Problema com a Concatenação Direta!\n",
    "\n",
    "Cada concatenação cria uma nova string, pois strings em Python são imutáveis. Isso pode levar a uma performance reduzida quando lidamos com grandes quantidades de dados:"
   ]
  },
  {
   "cell_type": "markdown",
   "id": "02a4e9d6",
   "metadata": {},
   "source": [
    "#### Otimização com o Método join().\n",
    "Para melhorar a eficiência, utilizamos uma lista para coletar os elementos e então os concatenamos uma única vez com o método join():"
   ]
  },
  {
   "cell_type": "code",
   "execution_count": null,
   "id": "f16a02dc",
   "metadata": {},
   "outputs": [],
   "source": [
    "def text(numeros):\n",
    "    l = [str(n) for n in numeros]  # Cria uma lista de strings\n",
    "    return \"\".join(l)  # Concatena todos os elementos da lista em uma única string\n",
    "\n",
    "# Teste de verificação\n",
    "assert text(intervalo(2)) == '01210'  # Testa com n = 2\n",
    "assert text(intervalo(9)) == '0123456789876543210'  # Testa com n = 9\n",
    "\n",
    "resultado = text(intervalo(9))\n",
    "resultado  # Saída: '0123456789876543210'"
   ]
  },
  {
   "cell_type": "markdown",
   "id": "a7093ab3",
   "metadata": {},
   "source": [
    "Vantagens do Método join()!\n",
    "\n",
    "Utilizando `join()`, reduzimos o overhead de memória ao evitar múltiplas realocações de string, o que torna o código mais eficiente, especialmente para grandes volumes de dados."
   ]
  },
  {
   "cell_type": "markdown",
   "id": "a1554456",
   "metadata": {},
   "source": [
    "## Compreensão de Lista\n",
    "\n",
    "A compreensão de lista (list comprehension) é uma maneira concisa e poderosa de criar listas em Python, permitindo filtrar e transformar itens de forma eficiente.\n",
    "\n",
    "### Exemplo de Compreensão de Lista\n",
    "\n",
    "Um exemplo simples para ilustrar a compreensão de lista que filtra e opera sobre os elementos:\n",
    "\n",
    "```python\n",
    "# Gera uma lista de números incrementados por 1 apenas para números pares\n",
    "[x + 1 for x in range(5) if x % 2 == 2]\n",
    "```"
   ]
  },
  {
   "cell_type": "markdown",
   "id": "eb498bd7",
   "metadata": {},
   "source": [
    "#### Função `text` Utilizando Compreensão de Lista\n",
    "A função `text` foi reescrita para utilizar compreensão de lista para transformar uma sequência de números em uma string:"
   ]
  },
  {
   "cell_type": "code",
   "execution_count": null,
   "id": "7d9ce70d",
   "metadata": {},
   "outputs": [],
   "source": [
    "def text(numeros):\n",
    "    # Cria uma lista de strings a partir dos números e depois concatena tudo em uma única string\n",
    "    return \"\".join([str(n) for n in numeros])\n",
    "\n",
    "# Teste de verificação\n",
    "assert text(intervalo(2)) == '01210'  # Testa com n = 2\n",
    "assert text(intervalo(9)) == '0123456789876543210'  # Testa com n = 9\n",
    "\n",
    "resultado = text(intervalo(9))\n",
    "resultado  # Saída: '0123456789876543210'"
   ]
  },
  {
   "cell_type": "markdown",
   "id": "e1068e05",
   "metadata": {},
   "source": [
    "#### Saída de Dados.\n",
    "Demonstração do uso da função text para visualizar a saída diretamente:"
   ]
  },
  {
   "cell_type": "code",
   "execution_count": null,
   "id": "a1eafbe3",
   "metadata": {},
   "outputs": [],
   "source": [
    "# Mostra a saída da função text para um intervalo específico\n",
    "resultado = \"\".join([str(n) for n in intervalo(2)])\n",
    "\n",
    "resultado  # Saída: '01210'"
   ]
  },
  {
   "cell_type": "markdown",
   "id": "9cc4a80e",
   "metadata": {},
   "source": [
    "#### Vantagens do Uso de List Comprehension.\n",
    "Utilizar compreensão de lista para a função text torna o código não apenas mais limpo e fácil de ler, mas também mais eficiente, pois reduz a necessidade de loops explícitos e operações repetitivas de concatenação de strings."
   ]
  },
  {
   "cell_type": "markdown",
   "id": "3b8972de",
   "metadata": {},
   "source": [
    "### Expressões Geradoras\n",
    "\n",
    "Expressões geradoras fornecem uma maneira eficiente de iterar sobre dados sem a necessidade de armazenar todos os elementos na memória de uma vez. Isso é especialmente útil para grandes conjuntos de dados.\n",
    "\n",
    "#### Substituição de List Comprehension por Generator Expression\n",
    "\n",
    "Ao substituir colchetes `[]` por parênteses `()`, transformamos uma compreensão de lista em uma expressão geradora:\n",
    "\n",
    "```python\n",
    "# Exemplo de expressão geradora que gera elementos um a um\n",
    "(str(n) for n in numeros)"
   ]
  },
  {
   "cell_type": "markdown",
   "id": "88ec62d5",
   "metadata": {},
   "source": [
    "#### Função text com Expressão Geradora.\n",
    "A função text foi adaptada para usar uma expressão geradora, reduzindo o uso de memória durante a concatenação de strings:"
   ]
  },
  {
   "cell_type": "code",
   "execution_count": null,
   "id": "abd11452",
   "metadata": {},
   "outputs": [],
   "source": [
    "def text(numeros):\n",
    "    # Utiliza uma expressão geradora para criar uma string a partir de números\n",
    "    return \"\".join((str(n) for n in numeros))\n",
    "\n",
    "# Teste de verificação\n",
    "assert text(intervalo(2)) == '01210'  # Testa com n = 2\n",
    "assert text(intervalo(9)) == '0123456789876543210'  # Testa com n = 9\n",
    "\n",
    "resultado = text(intervalo(9))\n",
    "resultado  # Saída: '0123456789876543210'"
   ]
  },
  {
   "cell_type": "markdown",
   "id": "85214eab",
   "metadata": {},
   "source": [
    "#### Simplificação do Código com Expressões Geradoras.\n",
    "Python permite omitir os parênteses externos ao usar expressões geradoras diretamente dentro de funções, como join():"
   ]
  },
  {
   "cell_type": "code",
   "execution_count": null,
   "id": "034f3bed",
   "metadata": {},
   "outputs": [],
   "source": [
    "def text(numeros):\n",
    "    # Simplifica a expressão geradora omitindo parênteses externos\n",
    "    return \"\".join(str(n) for n in numeros)\n",
    "\n",
    "# Teste de verificação\n",
    "assert text(intervalo(2)) == '01210'  # Testa com n = 2\n",
    "assert text(intervalo(9)) == '0123456789876543210'  # Testa com n = 9\n",
    "\n",
    "# Exibe o resultado de centralizar a string de números gerada para o intervalo de 1\n",
    "resultado = centraliza(text(intervalo(1)), 5)\n",
    "resultado  # Saída: '0123456789876543210'"
   ]
  },
  {
   "cell_type": "markdown",
   "id": "7c3ba2be",
   "metadata": {},
   "source": [
    "Vantagens das Expressões Geradoras!\n",
    "\n",
    "Usar expressões geradoras minimiza o impacto na memória e melhora a eficiência do programa, especialmente em situações onde a quantidade de dados é substancial."
   ]
  },
  {
   "cell_type": "markdown",
   "id": "8026b4d4",
   "metadata": {},
   "source": [
    "## Como Gerar a Linha em Texto a Partir do Intervalo?\n",
    "\n",
    "Transformar um intervalo numérico em uma linha de texto centrada é uma tarefa comum que pode ser simplificada com a combinação de funções previamente definidas.\n",
    "\n",
    "### Função `linha`\n",
    "\n",
    "A função `linha` compila várias funcionalidades para gerar uma linha de texto a partir de um número especificado, centralizando-a de acordo com a largura fornecida:\n",
    "\n",
    "```python\n",
    "def linha(n, largura, separador=''):\n",
    "    # Usa a função `centraliza` para alinhar o texto gerado pela função `text` aplicada ao `intervalo`\n",
    "    return centraliza(text(intervalo(n)), largura, separador)\n",
    "```"
   ]
  },
  {
   "cell_type": "code",
   "execution_count": null,
   "id": "4c540f61",
   "metadata": {},
   "outputs": [],
   "source": [
    "def linha(n, largura, separador=\"\"):\n",
    "    # Usa a função `centraliza` para alinhar o texto gerado pela função `text` aplicada ao `intervalo`\n",
    "    return centraliza(text(intervalo(n)), largura, separador)\n",
    "\n",
    "# Teste de verificação\n",
    "assert linha(0, 5) == \"  0  \"  # Testa com n = 0 e largura = 5\n",
    "assert linha(1, 5) == \" 010 \"  # Testa com n = 1 e largura = 5\n",
    "assert linha(2, 5) == \"01210\"  # Testa com n = 2 e largura = 5\n",
    "\n",
    "resultado_0 = linha(0, 5, ' ')\n",
    "resultado_0\n",
    "print(resultado_0)  # Saída: ' 01210 '\n",
    "\n",
    "resultado_1 = linha(1, 5, ' ')\n",
    "resultado_1\n",
    "print(resultado_1)  # Saída: '0123456789876543210'\n",
    "\n",
    "resultado_2 = linha(2, 5, ' ')\n",
    "print(resultado_2)  # Saída: ' 01210 '"
   ]
  },
  {
   "cell_type": "markdown",
   "id": "3ccafe11",
   "metadata": {},
   "source": [
    "### Adicionando Interatividade com interact\n",
    "Utilizamos a função interact da biblioteca ipywidgets para criar interfaces interativas que permitem ajustar os parâmetros da função linha dinamicamente:\n"
   ]
  },
  {
   "cell_type": "code",
   "execution_count": null,
   "id": "2d0ab74d",
   "metadata": {},
   "outputs": [],
   "source": [
    "# Importando a função interact\n",
    "from ipywidgets import interact\n",
    "\n",
    "# Cria um controle interativo para a função `linha`\n",
    "interact(linha, n=(0, 9, 1), largura=(0, 9 * 2 + 1, 1))\n",
    "\n",
    "# Teste de verificação\n",
    "assert linha(0, 5) == \"  0  \"  # Testa com n = 0 e largura = 5\n",
    "assert linha(1, 5) == \" 010 \"  # Testa com n = 1 e largura = 5\n",
    "assert linha(2, 5) == \"01210\"  # Testa com n = 2 e largura = 5\n",
    "\n",
    "resultado_0 = linha(0, 5, ' ')\n",
    "resultado_0"
   ]
  },
  {
   "cell_type": "markdown",
   "id": "ffb18317",
   "metadata": {},
   "source": [
    "Benefícios do interact!\n",
    "\n",
    "A função interact simplifica a criação de interfaces de usuário para exploração interativa de código e dados, tornando-se uma ferramenta valiosa para testes rápidos e aprendizado."
   ]
  },
  {
   "cell_type": "markdown",
   "id": "3f2c8feb",
   "metadata": {},
   "source": [
    "## Como Gerar o Losango com uma Pilha de Linhas?\n",
    "\n",
    "Construir um losango envolve gerar uma série de linhas de texto centradas que formam o padrão visual desejado. A função `losango` gerencia esse processo ao construir cada linha e juntá-las em um formato que representa o losango.\n",
    "\n",
    "### Função `losango`\n",
    "\n",
    "A função `losango` cria um losango de texto a partir de um tamanho dado, que define tanto a largura máxima quanto o número de linhas:"
   ]
  },
  {
   "cell_type": "code",
   "execution_count": null,
   "id": "6f83ec77",
   "metadata": {},
   "outputs": [],
   "source": [
    "def losango(tamanho):\n",
    "    largura = tamanho * 2 + 1  # Calcula a largura baseada no tamanho máximo do losango\n",
    "\n",
    "    # Gera os números necessários para cada linha do losango\n",
    "    numeros = intervalo(tamanho)\n",
    "    linhas = []\n",
    "\n",
    "    # Constrói cada linha centralizada e as armazena em uma lista\n",
    "    for n in numeros:\n",
    "        linhas.append(linha(n, largura))\n",
    "\n",
    "    # Junta todas as linhas em uma única string, separadas por quebras de linha\n",
    "    return \"\\n\".join(linhas)\n",
    "\n",
    "    # Teste de verificação\n",
    "assert losango(2) == (\n",
    "    \"  0  \\n\" \" 010 \\n\" \"01210\\n\" \" 010 \\n\" \"  0  \"\n",
    ")  # Verifica se o losango gerado está correto para tamanho 2\n",
    "\n",
    "\n",
    "resultado = losango(2)\n",
    "resultado  # Saída: '  0  \\n 010 \\n01210\\n 010 \\n  0  '"
   ]
  },
  {
   "cell_type": "markdown",
   "id": "c178900b",
   "metadata": {},
   "source": [
    "Visualização do Losango!\n",
    "\n",
    "Este método permite a visualização clara do losango, mostrando como as funções de centralização e de geração de intervalo trabalham juntas para criar uma forma geométrica simétrica a partir de texto."
   ]
  },
  {
   "cell_type": "markdown",
   "id": "46f86485",
   "metadata": {},
   "source": [
    "### Adicionando Interatividade com `interact`\n",
    "\n",
    "A função `interact` do módulo `ipywidgets` é uma ferramenta poderosa que permite criar interfaces de usuário interativas diretamente no Jupyter Notebook. Ela pode ser usada para alterar parâmetros e visualizar resultados em tempo real.\n",
    "\n",
    "#### Uso de `interact` com Função Lambda\n",
    "\n",
    "Para visualizar o losango numérico de maneira interativa, utilizamos `interact` juntamente com uma função `lambda` que permite a execução imediata de código sem a necessidade de definir uma função separada:"
   ]
  },
  {
   "cell_type": "code",
   "execution_count": null,
   "id": "0078ea34",
   "metadata": {},
   "outputs": [],
   "source": [
    "from ipywidgets import interact\n",
    "\n",
    "# Cria uma interface interativa para a função losango\n",
    "# A função lambda é usada para imprimir o resultado diretamente\n",
    "interact(lambda n: print(losango(n)), n=(0, 9, 1))\n",
    "\n",
    "\n",
    "resultado = losango(2)\n",
    "resultado  # Saída: '  0  \\n 010 \\n01210\\n 010 \\n  0  '"
   ]
  },
  {
   "cell_type": "markdown",
   "id": "41558351",
   "metadata": {},
   "source": [
    "Funcionamento do interact:\n",
    "\n",
    "Função Lambda: A função lambda é usada aqui para encapsular a chamada à função losango, permitindo a impressão direta do resultado. Isso é útil porque interact normalmente lida com o retorno de valores, mas no caso de querermos visualizar a saída diretamente, o print é necessário.\n",
    "Parâmetro n: O n é um controle deslizante criado automaticamente pelo interact, que permite ao usuário ajustar o valor de n de 0 a 9. Cada mudança no controle deslizante invoca a função lambda, que por sua vez chama losango(n) e imprime o resultado.\n",
    "Benefícios do Uso de interact\n",
    "Utilizar interact para esta visualização proporciona uma maneira dinâmica e envolvente de interagir com o código Python. Permite aos usuários:\n",
    "\n",
    "Visualizar imediatamente os efeitos das mudanças nos parâmetros.\n",
    "Entender melhor a dinâmica e o resultado das funções utilizadas.\n",
    "Aprender conceitos de programação de forma mais interativa e prática."
   ]
  },
  {
   "cell_type": "markdown",
   "id": "bc1a6ed8",
   "metadata": {},
   "source": [
    "### Melhorias e Integração das Funções\n",
    "\n",
    "A função `losango` foi refinada para utilizar expressões geradoras e garantir uma implementação mais eficiente e limpa. Abaixo estão as definições das funções e testes atualizados que compõem o processo de geração do losango numérico.\n",
    "\n",
    "#### Função `losango`\n",
    "\n",
    "A função `losango` compila as operações para gerar um losango completo baseado no tamanho especificado:"
   ]
  },
  {
   "cell_type": "code",
   "execution_count": null,
   "id": "43be8267",
   "metadata": {},
   "outputs": [],
   "source": [
    "def losango(tamanho, separador=\" \"):\n",
    "    largura = tamanho * 2 + 1\n",
    "    return \"\\n\".join(linha(n, largura, separador) for n in intervalo(tamanho))\n",
    "\n",
    "# Teste de verificação\n",
    "assert losango(2) == (\n",
    "    \"  0  \\n\" \" 010 \\n\" \"01210\\n\" \" 010 \\n\" \"  0  \"\n",
    ")  # Verifica se o losango gerado está correto para tamanho 2\n",
    "\n",
    "resultado = losango(2)\n",
    "resultado  # Saída: '  0  \\n 010 \\n01210\\n 010 \\n  0  '\n"
   ]
  },
  {
   "cell_type": "markdown",
   "id": "a1783387",
   "metadata": {},
   "source": [
    "Interatividade com interact\n",
    "A função interact foi configurada para permitir ajustes dinâmicos nos parâmetros do losango, melhorando a experiência do usuário:"
   ]
  },
  {
   "cell_type": "code",
   "execution_count": null,
   "id": "55bc3325",
   "metadata": {},
   "outputs": [],
   "source": [
    "from ipywidgets import interact\n",
    "\n",
    "# Permite ao usuário ajustar o tamanho do losango e o separador utilizado\n",
    "interact(lambda n, sep: print(losango(n, sep)), n=(0, 9, 1), sep=\"\")\n",
    "\n",
    "resultado = losango(2)"
   ]
  },
  {
   "cell_type": "code",
   "execution_count": null,
   "id": "aee0f760",
   "metadata": {},
   "outputs": [],
   "source": [
    "# 🎯 Código Completo Consolidado\n",
    "\n",
    "# Todas as funções necessárias para criar o losango\n",
    "def centraliza(texto, largura):\n",
    "    \"\"\"Centraliza um texto dentro de uma largura especificada.\"\"\"\n",
    "    margem = (largura - len(texto)) // 2\n",
    "    return ' ' * margem + texto + ' ' * margem\n",
    "\n",
    "def intervalo(n):\n",
    "    \"\"\"Gera uma sequência numérica que cresce de 0 até n e depois decresce até 0.\"\"\"\n",
    "    return [*range(n), *range(n, -1, -1)]\n",
    "\n",
    "def text(numeros):\n",
    "    \"\"\"Converte uma lista de números em uma string.\"\"\"\n",
    "    return \"\".join(str(n) for n in numeros)\n",
    "\n",
    "def linha(n, largura):\n",
    "    \"\"\"Cria uma linha centralizada do losango.\"\"\"\n",
    "    return centraliza(text(intervalo(n)), largura)\n",
    "\n",
    "def losango(tamanho):\n",
    "    \"\"\"Cria um losango numérico completo.\"\"\"\n",
    "    largura = tamanho * 2 + 1\n",
    "    return \"\\n\".join(linha(n, largura) for n in intervalo(tamanho))\n",
    "\n",
    "print(\"🎉 Todas as funções estão prontas!\")\n",
    "print(\"Use a interface interativa acima para explorar diferentes tamanhos de losango.\")\n"
   ]
  },
  {
   "cell_type": "markdown",
   "id": "0f2d4db3",
   "metadata": {},
   "source": [
    "Visão Geral do Código Integrado\n",
    "Aqui está como todas as funções trabalham juntas para gerar um losango de texto:\n",
    "\n",
    "Função intervalo: Gera uma sequência numérica.\n",
    "Função texto: Converte a sequência numérica em uma string.\n",
    "Função linha: Gera uma linha de texto centralizada.\n",
    "Função losango: Compila todas as linhas em um formato de losango.\n",
    "Essa estrutura modular facilita a manutenção do código e permite ajustes e testes individuais de cada componente."
   ]
  }
 ],
 "metadata": {
  "kernelspec": {
   "display_name": ".venv",
   "language": "python",
   "name": "python3"
  },
  "language_info": {
   "codemirror_mode": {
    "name": "ipython",
    "version": 3
   },
   "file_extension": ".py",
   "mimetype": "text/x-python",
   "name": "python",
   "nbconvert_exporter": "python",
   "pygments_lexer": "ipython3",
   "version": "3.12.11"
  }
 },
 "nbformat": 4,
 "nbformat_minor": 5
}
