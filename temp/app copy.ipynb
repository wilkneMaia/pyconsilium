{
 "cells": [
  {
   "cell_type": "markdown",
   "id": "88687f79",
   "metadata": {},
   "source": [
    "# Desenhar um Losango em Texto."
   ]
  },
  {
   "cell_type": "markdown",
   "id": "6e2e9571",
   "metadata": {},
   "source": [
    "## O Desafio\n",
    "\n",
    "Este desafio é um exemplo clássico de como abordagens diretas podem ser mais desafiadoras do que parecem à primeira vista.\n",
    "\n",
    "### Abordagens Possíveis\n",
    "\n",
    "1. **Abordagem Direta:**\n",
    "   - Tentar resolver o problema de uma só vez pode levar a focar excessivamente no resultado final, resultando em uma complexidade desnecessária com loops e manipulações de `strings` que podem confundir mais do que ajudar.\n",
    "\n",
    "2. **Abordagem Incremental:**\n",
    "   - Decompor o problema em subproblemas menores é uma estratégia eficaz. Essa abordagem permite entender melhor cada componente do problema, facilitando a implementação e reduzindo a chance de erros.\n",
    "\n",
    "### Recomendação\n",
    "\n",
    "A abordagem incremental não só simplifica o processo de desenvolvimento, como também proporciona uma base sólida para futuras expansões e manutenção do código. Cada passo se torna uma mini vitória, garantindo que todos os aspectos do problema sejam devidamente considerados e implementados.\n"
   ]
  },
  {
   "cell_type": "markdown",
   "id": "13372304",
   "metadata": {},
   "source": [
    "## Estratégia de Solução\n",
    "\n",
    "Para resolver o problema de desenhar um losango numérico, utilizaremos uma abordagem passo a passo que envolve a decomposição do problema em tarefas menores e mais gerenciáveis. Cada passo é crucial para a construção do losango final:\n",
    "\n",
    "1. **Centralização dos Números na Linha:**\n",
    "   - Para que os números apareçam centralizados em cada linha, será necessário calcular o espaço necessário de preenchimento à esquerda de cada linha de texto.\n",
    "\n",
    "2. **Criação do Intervalo de Números:**\n",
    "   - Desenvolver uma função que gere uma sequência de números que aumenta de `0` até `N` e depois diminui até `0` novamente, o que forma a base de cada linha do losango.\n",
    "\n",
    "3. **Conversão do Intervalo em Texto:**\n",
    "   - Converter a sequência numérica de cada linha em uma string para facilitar a manipulação e a exibição.\n",
    "\n",
    "4. **Geração da Linha de Texto a partir do Intervalo:**\n",
    "   - Transformar a sequência numérica já convertida em string em uma linha de texto que será uma das linhas do losango.\n",
    "\n",
    "5. **Construção do Losango com Pilhas de Linhas:**\n",
    "   - Empilhar todas as linhas geradas de forma a formar o losango, começando pela linha mais curta no topo, até a linha mais longa no meio, e então decrescendo novamente até a linha mais curta na base.\n",
    "\n",
    "Esta estrutura metódica não apenas facilita a compreensão e a implementação de cada etapa, mas também ajuda a manter o controle sobre o fluxo do desenvolvimento e a garantir que todos os aspectos do problema sejam abordados.\n"
   ]
  },
  {
   "cell_type": "markdown",
   "id": "bce0e442",
   "metadata": {},
   "source": [
    "# Como Centralizar os Números?\n",
    "\n",
    "A centralização dos números em cada linha do losango é fundamental para a estética do desenho. O processo de centralização é realizado calculando a margem necessária para que o texto fique alinhado simetricamente.\n",
    "\n",
    "### Cálculo da Margem\n",
    "A margem é determinada pelo número de espaços necessários antes do primeiro caractere do número, que é calculado como:\n",
    "`margem = (largura_máxima - largura_atual) // 2`\n",
    "\n",
    "onde `largura_máxima` é o número de elementos da linha mais larga e `largura_atual` é o número de elementos da linha que está sendo processada.\n",
    "\n",
    "### Implementação da Função de Centralização\n",
    "\n",
    "A função `centraliza` é implementada da seguinte maneira:"
   ]
  },
  {
   "cell_type": "code",
   "execution_count": 1,
   "id": "35315a99",
   "metadata": {},
   "outputs": [
    {
     "data": {
      "text/plain": [
       "'01234'"
      ]
     },
     "execution_count": 1,
     "metadata": {},
     "output_type": "execute_result"
    }
   ],
   "source": [
    "def centraliza(texto, largura):\n",
    "    margem = (largura - len(texto)) // 2\n",
    "    return ' ' * margem + texto + ' ' * margem\n",
    "\n",
    "resultado = centraliza('01234', 6)\n",
    "resultado  # Saída: '0123'"
   ]
  },
  {
   "cell_type": "markdown",
   "id": "e02242be",
   "metadata": {},
   "source": [
    "### Testes de Verificação\n",
    "\n",
    "O uso de `assert` é uma prática comum para a depuração de programas. Ele assegura que o programa só continue a execução se as condições especificadas forem verdadeiras, facilitando a identificação de problemas lógicos nas etapas iniciais do desenvolvimento.\n",
    "\n",
    "Cada assert confirma que a função centraliza está realizando o alinhamento correto dos números, considerando a largura desejada.\n",
    "\n",
    "```python\n",
    "assert centraliza('0', 6) == '  0  '  # Testa centralização de um único caractere\n",
    "assert centraliza('012', 6) == ' 012 '  # Testa centralização de três caracteres\n",
    "assert centraliza('01234', 6) == '01234'  # Testa centralização sem margens adicionais\n",
    "```"
   ]
  },
  {
   "cell_type": "markdown",
   "id": "c7f26ff0",
   "metadata": {},
   "source": [
    "### Código"
   ]
  },
  {
   "cell_type": "code",
   "execution_count": null,
   "id": "647133ea",
   "metadata": {},
   "outputs": [
    {
     "data": {
      "text/plain": [
       "' Hello World '"
      ]
     },
     "execution_count": 2,
     "metadata": {},
     "output_type": "execute_result"
    }
   ],
   "source": [
    "def centraliza(texto, largura):\n",
    "    margem = (largura - len(texto)) // 2\n",
    "    return \" \" * margem + texto + \" \" * margem\n",
    "\n",
    "\n",
    "assert centraliza(\"0\", 6) == \"  0  \"  # Testa centralização de um único caractere\n",
    "assert centraliza(\"012\", 6) == \" 012 \"  # Testa centralização de três caracteres\n",
    "assert centraliza(\"01234\", 6) == \"01234\"  # Testa centralização sem margens adicionais\n",
    "\n",
    "resultado = centraliza(\"Hello World\", 14)\n",
    "resultado  # Saída: ' Hello World '"
   ]
  },
  {
   "cell_type": "markdown",
   "id": "7a31e83b",
   "metadata": {},
   "source": [
    "### Formatação de String\n",
    "\n",
    "O método de formatação de strings em Python oferece uma maneira flexível e poderosa de manipular textos. É particularmente útil para centralizar texto, definindo a largura desejada e o caractere separador. \n",
    "\n",
    "#### Implementação da Função `centraliza`\n",
    "\n",
    "A função `centraliza` utiliza o método `format` para alinhar o texto dentro de uma largura especificada, usando espaços como separadores padrão:"
   ]
  },
  {
   "cell_type": "code",
   "execution_count": 3,
   "id": "16e2b37b",
   "metadata": {},
   "outputs": [
    {
     "data": {
      "text/plain": [
       "' Hello World  '"
      ]
     },
     "execution_count": 3,
     "metadata": {},
     "output_type": "execute_result"
    }
   ],
   "source": [
    "def centraliza(texto, largura):\n",
    "    # String format para centralizar texto\n",
    "    return \"{texto:{separador}^{largura}}\".format(\n",
    "        texto=texto, separador=\" \", largura=largura\n",
    "    )\n",
    "\n",
    "\n",
    "resultado = centraliza(\"Hello World\", 14)\n",
    "resultado  # Saída: ' Hello World '"
   ]
  },
  {
   "cell_type": "markdown",
   "id": "6d54243f",
   "metadata": {},
   "source": [
    "#### Exemplo Adicional de Formatação de String\n",
    "Aqui está um exemplo isolado que demonstra a sintaxe e o funcionamento do String format:"
   ]
  },
  {
   "cell_type": "code",
   "execution_count": 4,
   "id": "48b795a0",
   "metadata": {},
   "outputs": [
    {
     "data": {
      "text/plain": [
       "'  0  '"
      ]
     },
     "execution_count": 4,
     "metadata": {},
     "output_type": "execute_result"
    }
   ],
   "source": [
    "# Exemplo de formatação de string para centralizar texto\n",
    "\"{texto:{separador}^{largura}}\".format(texto=\"0\", separador=\" \", largura=5)"
   ]
  },
  {
   "cell_type": "markdown",
   "id": "8f5b9775",
   "metadata": {},
   "source": [
    "Esses exemplos e testes ilustram como a formatação de string pode ser utilizada para ajustar a apresentação de dados de forma dinâmica e precisa em aplicações Python."
   ]
  },
  {
   "cell_type": "markdown",
   "id": "0af25eca",
   "metadata": {},
   "source": [
    "### Formatação de String Literal (f-string)\n",
    "\n",
    "A partir do Python 3.6, foi introduzida uma nova forma de formatação de strings conhecida como f-string, que permite uma sintaxe mais direta e legível para inserir expressões dentro de strings.\n",
    "\n",
    "#### Vantagens do f-string\n",
    "\n",
    "Usando o prefixo `f` antes das aspas da string, você pode diretamente incorporar variáveis e expressões dentro da string, o que facilita a leitura e a escrita do código. O f-string interpreta o que está entre chaves `{}` como expressões válidas, que são avaliadas em tempo de execução usando o escopo local.\n",
    "\n",
    "#### Implementação da Função `centraliza` com f-string\n",
    "\n",
    "A função `centraliza` é implementada utilizando f-string para centralizar o texto de forma dinâmica.\n",
    "\n",
    "Este exemplo mostra como a função centraliza pode ser usada para centralizar texto utilizando f-string, proporcionando uma maneira eficiente e moderna de formatação:"
   ]
  },
  {
   "cell_type": "code",
   "execution_count": 5,
   "id": "e9986f01",
   "metadata": {},
   "outputs": [
    {
     "data": {
      "text/plain": [
       "' Hello World  '"
      ]
     },
     "execution_count": 5,
     "metadata": {},
     "output_type": "execute_result"
    }
   ],
   "source": [
    "def centraliza(texto, largura, separador=\" \"):\n",
    "    # Uso de f-string para centralizar texto\n",
    "    return f\"{texto:{separador}^{largura}}\"\n",
    "\n",
    "resultado = centraliza(\"Hello World\", 14)\n",
    "resultado  # Saída: ' Hello World '"
   ]
  },
  {
   "cell_type": "markdown",
   "id": "87db5153",
   "metadata": {},
   "source": [
    "## Como Criar o Intervalo de 0...N...0?\n",
    "\n",
    "A função `intervalo` é essencial para gerar uma sequência numérica que começa em 0, aumenta até um número N, e depois retorna a 0. Esta sequência é crucial para formar cada linha do losango numérico.\n",
    "\n",
    "### Estrutura Condicional\n",
    "\n",
    "A função utiliza estruturas condicionais `if` para determinar a sequência baseada no valor de N fornecido:"
   ]
  },
  {
   "cell_type": "code",
   "execution_count": 6,
   "id": "40299b71",
   "metadata": {},
   "outputs": [],
   "source": [
    "def intervalo(n):\n",
    "    if n == 0:\n",
    "        return [0]\n",
    "    if n == 1:\n",
    "        return [0, 1, 0]\n",
    "    if n == 2:\n",
    "        return [0, 1, 2, 1, 0]\n",
    "    if n == 9:\n",
    "        return [0, 1, 2, 3, 4, 5, 6, 7, 8, 9, 8, 7, 6, 5, 4, 3, 2, 1, 0]"
   ]
  },
  {
   "cell_type": "markdown",
   "id": "be36bc75",
   "metadata": {},
   "source": [
    "Testes de Verificação\n",
    "Para assegurar que a função intervalo funciona corretamente para diferentes valores de N, utilizamos declarações assert que testam a função com vários casos:"
   ]
  },
  {
   "cell_type": "code",
   "execution_count": 7,
   "id": "e67e101c",
   "metadata": {},
   "outputs": [
    {
     "data": {
      "text/plain": [
       "[0, 1, 2, 3, 4, 5, 6, 7, 8, 9, 8, 7, 6, 5, 4, 3, 2, 1, 0]"
      ]
     },
     "execution_count": 7,
     "metadata": {},
     "output_type": "execute_result"
    }
   ],
   "source": [
    "assert intervalo(0) == [0]  # Testa o caso base, onde N é 0\n",
    "assert intervalo(1) == [0, 1, 0]  # Testa com N igual a 1\n",
    "assert intervalo(2) == [0, 1, 2, 1, 0]  # Testa com N igual a 2\n",
    "assert intervalo(9) == [0, 1, 2, 3, 4, 5, 6, 7, 8, 9, 8, 7, 6, 5, 4, 3, 2, 1, 0] # Testa com N igual a 9\n",
    "\n",
    "resultado = intervalo(9)\n",
    "resultado  # Saída: [0, 1, 2, 3, 4, 5, 6, 7, 8, 9, 8, 7, 6, 5, 4, 3, 2, 1, 0]"
   ]
  },
  {
   "cell_type": "markdown",
   "id": "5e3b3b3a",
   "metadata": {},
   "source": [
    "Benefícios do Uso de if\n",
    "Utilizar a estrutura condicional if permite que a função seja flexível e responda adequadamente de acordo com o parâmetro fornecido, adaptando a sequência numérica para atender às necessidades de cada linha do losango."
   ]
  },
  {
   "cell_type": "markdown",
   "id": "0c478e87",
   "metadata": {},
   "source": [
    "## Simplificando a Criação de Sequências com `range()` e `list()`\n",
    "\n",
    "Para construir as linhas do losango numérico, utilizamos a função `range()`, que é um gerador poderoso para criar sequências numéricas, e a função `list()` para converter estas sequências em listas manipuláveis.\n",
    "\n",
    "### Uso de `range()`\n",
    "\n",
    "A função `range()` gera uma sequência de números dentro de um intervalo especificado. É extremamente útil para criar padrões numéricos de forma eficiente:"
   ]
  },
  {
   "cell_type": "code",
   "execution_count": 8,
   "id": "3ede7706",
   "metadata": {},
   "outputs": [
    {
     "data": {
      "text/plain": [
       "range(0, 9)"
      ]
     },
     "execution_count": 8,
     "metadata": {},
     "output_type": "execute_result"
    }
   ],
   "source": [
    "# Gera números de 0 até n-1\n",
    "n= 9\n",
    "range(n)"
   ]
  },
  {
   "cell_type": "markdown",
   "id": "eefc5d4b",
   "metadata": {},
   "source": [
    "### Conversão com list()\n",
    "\n",
    "Convertendo a saída de range() para uma lista com list(), podemos manipular esses números facilmente:"
   ]
  },
  {
   "cell_type": "code",
   "execution_count": 9,
   "id": "26dda9a6",
   "metadata": {},
   "outputs": [
    {
     "name": "stdout",
     "output_type": "stream",
     "text": [
      "[0, 1, 2, 3, 4, 5, 6, 7, 8]\n"
     ]
    }
   ],
   "source": [
    "# Converte um range em lista\n",
    "lista = list(range(n))\n",
    "\n",
    "print(lista)"
   ]
  },
  {
   "cell_type": "markdown",
   "id": "265f6272",
   "metadata": {},
   "source": [
    "### Implementação da Função intervalo.\n",
    "\n",
    "Combinamos duas sequências geradas por range() para formar a sequência de 0 até N e de volta a 0, essencial para cada linha do losango:"
   ]
  },
  {
   "cell_type": "code",
   "execution_count": 10,
   "id": "2a7a1d1d",
   "metadata": {},
   "outputs": [],
   "source": [
    "def intervalo(n):\n",
    "    # Gera uma lista aumentando até n e depois diminuindo até 0\n",
    "    return list(range(n)) + list(range(n, -1, -1))"
   ]
  },
  {
   "cell_type": "markdown",
   "id": "03b139b8",
   "metadata": {},
   "source": [
    "#### Testes de Verificação.\n",
    "\n",
    "Testes são realizados para garantir que a função intervalo está produzindo as saídas esperadas para diferentes valores:"
   ]
  },
  {
   "cell_type": "code",
   "execution_count": 11,
   "id": "076b03fb",
   "metadata": {},
   "outputs": [
    {
     "data": {
      "text/plain": [
       "[0, 1, 2, 3, 2, 1, 0]"
      ]
     },
     "execution_count": 11,
     "metadata": {},
     "output_type": "execute_result"
    }
   ],
   "source": [
    "assert intervalo(0) == [0]                          # Testa o caso base com n = 0\n",
    "assert intervalo(1) == [0, 1, 0]                    # Testa com n = 1\n",
    "assert intervalo(2) == [0, 1, 2, 1, 0]              # Testa com n = 2\n",
    "assert intervalo(3) == [0, 1, 2, 3, 2, 1, 0]         # Testa com n = 3\n",
    "assert intervalo(9) == [0, 1, 2, 3, 4, 5, 6, 7, 8, 9, 8, 7, 6, 5, 4, 3, 2, 1, 0]  # Testa com n = 9\n",
    "\n",
    "resultado = intervalo(3)\n",
    "resultado  # Saída: [0, 1, 2, 3, 4, 5, 6, 7, 8, 9, 8, 7, 6, 5, 4, 3, 2, 1, 0]"
   ]
  },
  {
   "cell_type": "markdown",
   "id": "57796218",
   "metadata": {},
   "source": [
    "#### Exemplo Adicional\n",
    "Aqui está um exemplo prático mostrando como combinar duas listas geradas por range() para formar uma única sequência:"
   ]
  },
  {
   "cell_type": "code",
   "execution_count": 12,
   "id": "922582e9",
   "metadata": {},
   "outputs": [
    {
     "data": {
      "text/plain": [
       "[0, 1, 2, 1, 0]"
      ]
     },
     "execution_count": 12,
     "metadata": {},
     "output_type": "execute_result"
    }
   ],
   "source": [
    "# Combinação de duas listas geradas por range\n",
    "list(range(2)) + list(range(2, -1, -1))  # Resultado: [0, 1, 2, 1, 0]\n",
    "\n",
    "resultado = list(range(2)) + list(range(2, -1, -1))\n",
    "resultado  # Saída: [0, 1, 2, 1, 0]"
   ]
  },
  {
   "cell_type": "markdown",
   "id": "03a46344",
   "metadata": {},
   "source": [
    "Este método simplifica significativamente a criação de padrões numéricos complexos, tornando o código mais legível e eficiente."
   ]
  },
  {
   "cell_type": "markdown",
   "id": "3c05f1ac",
   "metadata": {},
   "source": [
    "### Utilizando Lista Literal com Desempacotamento\n",
    "\n",
    "A técnica de desempacotamento em listas literais permite uma maneira concisa e expressiva de combinar sequências em uma única lista. Este método é particularmente útil para criar listas que necessitam de elementos de múltiplas fontes, como a função `range()`.\n",
    "\n",
    "#### Implementação da Função `intervalo` com Desempacotamento\n",
    "\n",
    "Utilizamos o desempacotamento para combinar duas sequências de `range()` em uma única lista, formando a sequência numérica desejada de 0 até N e de volta a 0:"
   ]
  },
  {
   "cell_type": "code",
   "execution_count": 13,
   "id": "2b19672f",
   "metadata": {},
   "outputs": [],
   "source": [
    "def intervalo(n):\n",
    "    # Uso de lista literal com desempacotamento para combinar duas sequências de range\n",
    "    return [*range(n), *range(n, -1, -1)]"
   ]
  },
  {
   "cell_type": "markdown",
   "id": "b95bfeca",
   "metadata": {},
   "source": [
    "#### Testes de Verificação\n",
    "Verificamos a corretude da função intervalo usando declarações assert para assegurar que as sequências numéricas estão corretas para vários valores de N:"
   ]
  },
  {
   "cell_type": "code",
   "execution_count": 14,
   "id": "23b97e6d",
   "metadata": {},
   "outputs": [
    {
     "data": {
      "text/plain": [
       "[0, 1, 2, 3, 2, 1, 0]"
      ]
     },
     "execution_count": 14,
     "metadata": {},
     "output_type": "execute_result"
    }
   ],
   "source": [
    "assert intervalo(0) == [0]                          # Testa o caso base com n = 0\n",
    "assert intervalo(1) == [0, 1, 0]                    # Testa com n = 1\n",
    "assert intervalo(2) == [0, 1, 2, 1, 0]              # Testa com n = 2\n",
    "assert intervalo(9) == [0, 1, 2, 3, 4, 5, 6, 7, 8, 9, 8, 7, 6, 5, 4, 3, 2, 1, 0]  # Testa com n = 9\n",
    "\n",
    "resultado = intervalo(3)\n",
    "resultado  # Saída: [0, 1, 2, 3, 2, 1, 0]"
   ]
  },
  {
   "cell_type": "markdown",
   "id": "e09d46e7",
   "metadata": {},
   "source": [
    "#### Exemplo Adicional\n",
    "Para ilustrar o uso de desempacotamento em listas literais com um valor específico de N:"
   ]
  },
  {
   "cell_type": "code",
   "execution_count": 15,
   "id": "383d85d7",
   "metadata": {},
   "outputs": [
    {
     "data": {
      "text/plain": [
       "[0, 1, 2, 1, 0]"
      ]
     },
     "execution_count": 15,
     "metadata": {},
     "output_type": "execute_result"
    }
   ],
   "source": [
    "n = 2\n",
    "lista_resultante = [*range(n), *range(n, -1, -1)]\n",
    "\n",
    "resultado = [*range(2), *range(2, -1, -1)]\n",
    "resultado  # Saída: [0, 1, 2, 1, 0]\n"
   ]
  },
  {
   "cell_type": "markdown",
   "id": "851996d1",
   "metadata": {},
   "source": [
    "Este exemplo demonstra como é fácil e eficiente criar listas complexas utilizando desempacotamento, o que torna o código mais limpo e fácil de entender."
   ]
  },
  {
   "cell_type": "markdown",
   "id": "9fce8198",
   "metadata": {},
   "source": [
    "## Como Transformar o Intervalo em Texto?\n",
    "\n",
    "Converter uma sequência de números em uma única string é uma tarefa comum que pode ser otimizada para evitar problemas de desempenho associados com a imutabilidade das strings em Python.\n",
    "\n",
    "### Implementação Inicial da Função `text`\n",
    "\n",
    "Inicialmente, podemos pensar em concatenar diretamente dentro de um loop, o que é intuitivo, mas não o mais eficiente:"
   ]
  },
  {
   "cell_type": "code",
   "execution_count": 16,
   "id": "a91a9064",
   "metadata": {},
   "outputs": [
    {
     "name": "stdout",
     "output_type": "stream",
     "text": [
      "01210\n"
     ]
    }
   ],
   "source": [
    "def text(numeros):\n",
    "    s = \"\"\n",
    "    for n in numeros:\n",
    "        s += str(n)  # Concatena cada número convertido para string\n",
    "    return s\n",
    "\n",
    "# Exemplo de uso\n",
    "resultado = text(intervalo(2))\n",
    "print(resultado)  # Saída: '01210'"
   ]
  },
  {
   "cell_type": "markdown",
   "id": "2b0c1c74",
   "metadata": {},
   "source": [
    "Problema com a Concatenação Direta!\n",
    "\n",
    "Cada concatenação cria uma nova string, pois strings em Python são imutáveis. Isso pode levar a uma performance reduzida quando lidamos com grandes quantidades de dados:"
   ]
  },
  {
   "cell_type": "markdown",
   "id": "02a4e9d6",
   "metadata": {},
   "source": [
    "#### Otimização com o Método join().\n",
    "Para melhorar a eficiência, utilizamos uma lista para coletar os elementos e então os concatenamos uma única vez com o método join():"
   ]
  },
  {
   "cell_type": "code",
   "execution_count": 17,
   "id": "f16a02dc",
   "metadata": {},
   "outputs": [
    {
     "data": {
      "text/plain": [
       "'0123456789876543210'"
      ]
     },
     "execution_count": 17,
     "metadata": {},
     "output_type": "execute_result"
    }
   ],
   "source": [
    "def text(numeros):\n",
    "    l = [str(n) for n in numeros]  # Cria uma lista de strings\n",
    "    return \"\".join(l)  # Concatena todos os elementos da lista em uma única string\n",
    "\n",
    "# Teste de verificação\n",
    "assert text(intervalo(2)) == '01210'  # Testa com n = 2\n",
    "assert text(intervalo(9)) == '0123456789876543210'  # Testa com n = 9\n",
    "\n",
    "resultado = text(intervalo(9))\n",
    "resultado  # Saída: '0123456789876543210'"
   ]
  },
  {
   "cell_type": "markdown",
   "id": "a7093ab3",
   "metadata": {},
   "source": [
    "Vantagens do Método join()!\n",
    "\n",
    "Utilizando `join()`, reduzimos o overhead de memória ao evitar múltiplas realocações de string, o que torna o código mais eficiente, especialmente para grandes volumes de dados."
   ]
  },
  {
   "cell_type": "markdown",
   "id": "a1554456",
   "metadata": {},
   "source": [
    "## Compreensão de Lista\n",
    "\n",
    "A compreensão de lista (list comprehension) é uma maneira concisa e poderosa de criar listas em Python, permitindo filtrar e transformar itens de forma eficiente.\n",
    "\n",
    "### Exemplo de Compreensão de Lista\n",
    "\n",
    "Um exemplo simples para ilustrar a compreensão de lista que filtra e opera sobre os elementos:\n",
    "\n",
    "```python\n",
    "# Gera uma lista de números incrementados por 1 apenas para números pares\n",
    "[x + 1 for x in range(5) if x % 2 == 2]\n",
    "```"
   ]
  },
  {
   "cell_type": "markdown",
   "id": "eb498bd7",
   "metadata": {},
   "source": [
    "#### Função `text` Utilizando Compreensão de Lista\n",
    "A função `text` foi reescrita para utilizar compreensão de lista para transformar uma sequência de números em uma string:"
   ]
  },
  {
   "cell_type": "code",
   "execution_count": 18,
   "id": "7d9ce70d",
   "metadata": {},
   "outputs": [
    {
     "data": {
      "text/plain": [
       "'0123456789876543210'"
      ]
     },
     "execution_count": 18,
     "metadata": {},
     "output_type": "execute_result"
    }
   ],
   "source": [
    "def text(numeros):\n",
    "    # Cria uma lista de strings a partir dos números e depois concatena tudo em uma única string\n",
    "    return \"\".join([str(n) for n in numeros])\n",
    "\n",
    "# Teste de verificação\n",
    "assert text(intervalo(2)) == '01210'  # Testa com n = 2\n",
    "assert text(intervalo(9)) == '0123456789876543210'  # Testa com n = 9\n",
    "\n",
    "resultado = text(intervalo(9))\n",
    "resultado  # Saída: '0123456789876543210'"
   ]
  },
  {
   "cell_type": "markdown",
   "id": "e1068e05",
   "metadata": {},
   "source": [
    "#### Saída de Dados.\n",
    "Demonstração do uso da função text para visualizar a saída diretamente:"
   ]
  },
  {
   "cell_type": "code",
   "execution_count": 19,
   "id": "a1eafbe3",
   "metadata": {},
   "outputs": [
    {
     "data": {
      "text/plain": [
       "'01210'"
      ]
     },
     "execution_count": 19,
     "metadata": {},
     "output_type": "execute_result"
    }
   ],
   "source": [
    "# Mostra a saída da função text para um intervalo específico\n",
    "resultado = \"\".join([str(n) for n in intervalo(2)])\n",
    "\n",
    "resultado  # Saída: '01210'"
   ]
  },
  {
   "cell_type": "markdown",
   "id": "9cc4a80e",
   "metadata": {},
   "source": [
    "#### Vantagens do Uso de List Comprehension.\n",
    "Utilizar compreensão de lista para a função text torna o código não apenas mais limpo e fácil de ler, mas também mais eficiente, pois reduz a necessidade de loops explícitos e operações repetitivas de concatenação de strings."
   ]
  },
  {
   "cell_type": "markdown",
   "id": "3b8972de",
   "metadata": {},
   "source": [
    "### Expressões Geradoras\n",
    "\n",
    "Expressões geradoras fornecem uma maneira eficiente de iterar sobre dados sem a necessidade de armazenar todos os elementos na memória de uma vez. Isso é especialmente útil para grandes conjuntos de dados.\n",
    "\n",
    "#### Substituição de List Comprehension por Generator Expression\n",
    "\n",
    "Ao substituir colchetes `[]` por parênteses `()`, transformamos uma compreensão de lista em uma expressão geradora:\n",
    "\n",
    "```python\n",
    "# Exemplo de expressão geradora que gera elementos um a um\n",
    "(str(n) for n in numeros)"
   ]
  },
  {
   "cell_type": "markdown",
   "id": "88ec62d5",
   "metadata": {},
   "source": [
    "#### Função text com Expressão Geradora.\n",
    "A função text foi adaptada para usar uma expressão geradora, reduzindo o uso de memória durante a concatenação de strings:"
   ]
  },
  {
   "cell_type": "code",
   "execution_count": 20,
   "id": "abd11452",
   "metadata": {},
   "outputs": [
    {
     "data": {
      "text/plain": [
       "'0123456789876543210'"
      ]
     },
     "execution_count": 20,
     "metadata": {},
     "output_type": "execute_result"
    }
   ],
   "source": [
    "def text(numeros):\n",
    "    # Utiliza uma expressão geradora para criar uma string a partir de números\n",
    "    return \"\".join((str(n) for n in numeros))\n",
    "\n",
    "# Teste de verificação\n",
    "assert text(intervalo(2)) == '01210'  # Testa com n = 2\n",
    "assert text(intervalo(9)) == '0123456789876543210'  # Testa com n = 9\n",
    "\n",
    "resultado = text(intervalo(9))\n",
    "resultado  # Saída: '0123456789876543210'"
   ]
  },
  {
   "cell_type": "markdown",
   "id": "85214eab",
   "metadata": {},
   "source": [
    "#### Simplificação do Código com Expressões Geradoras.\n",
    "Python permite omitir os parênteses externos ao usar expressões geradoras diretamente dentro de funções, como join():"
   ]
  },
  {
   "cell_type": "code",
   "execution_count": null,
   "id": "034f3bed",
   "metadata": {},
   "outputs": [
    {
     "data": {
      "text/plain": [
       "' 010 '"
      ]
     },
     "execution_count": 21,
     "metadata": {},
     "output_type": "execute_result"
    }
   ],
   "source": [
    "def text(numeros):\n",
    "    # Simplifica a expressão geradora omitindo parênteses externos\n",
    "    return \"\".join(str(n) for n in numeros)\n",
    "\n",
    "# Teste de verificação\n",
    "assert text(intervalo(2)) == '01210'  # Testa com n = 2\n",
    "assert text(intervalo(9)) == '0123456789876543210'  # Testa com n = 9\n",
    "\n",
    "# Exibe o resultado de centralizar a string de números gerada para o intervalo de 1\n",
    "resultado = centraliza(text(intervalo(1)), 5)\n",
    "resultado  # Saída: '0123456789876543210'"
   ]
  },
  {
   "cell_type": "markdown",
   "id": "7c3ba2be",
   "metadata": {},
   "source": [
    "Vantagens das Expressões Geradoras!\n",
    "\n",
    "Usar expressões geradoras minimiza o impacto na memória e melhora a eficiência do programa, especialmente em situações onde a quantidade de dados é substancial."
   ]
  },
  {
   "cell_type": "markdown",
   "id": "8026b4d4",
   "metadata": {},
   "source": [
    "## Como Gerar a Linha em Texto a Partir do Intervalo?\n",
    "\n",
    "Transformar um intervalo numérico em uma linha de texto centrada é uma tarefa comum que pode ser simplificada com a combinação de funções previamente definidas.\n",
    "\n",
    "### Função `linha`\n",
    "\n",
    "A função `linha` compila várias funcionalidades para gerar uma linha de texto a partir de um número especificado, centralizando-a de acordo com a largura fornecida:\n",
    "\n",
    "```python\n",
    "def linha(n, largura, separador=''):\n",
    "    # Usa a função `centraliza` para alinhar o texto gerado pela função `text` aplicada ao `intervalo`\n",
    "    return centraliza(text(intervalo(n)), largura, separador)\n",
    "```"
   ]
  },
  {
   "cell_type": "code",
   "execution_count": null,
   "id": "4c540f61",
   "metadata": {},
   "outputs": [
    {
     "name": "stdout",
     "output_type": "stream",
     "text": [
      "  0  \n",
      " 010 \n",
      "01210\n"
     ]
    }
   ],
   "source": [
    "def linha(n, largura, separador=\"\"):\n",
    "    # Usa a função `centraliza` para alinhar o texto gerado pela função `text` aplicada ao `intervalo`\n",
    "    return centraliza(text(intervalo(n)), largura, separador)\n",
    "\n",
    "# Teste de verificação\n",
    "assert linha(0, 5) == \"  0  \"  # Testa com n = 0 e largura = 5\n",
    "assert linha(1, 5) == \" 010 \"  # Testa com n = 1 e largura = 5\n",
    "assert linha(2, 5) == \"01210\"  # Testa com n = 2 e largura = 5\n",
    "\n",
    "resultado_0 = linha(0, 5, ' ')\n",
    "resultado_0\n",
    "print(resultado_0)  # Saída: ' 01210 '\n",
    "\n",
    "resultado_1 = linha(1, 5, ' ')\n",
    "resultado_1\n",
    "print(resultado_1)  # Saída: '0123456789876543210'\n",
    "\n",
    "resultado_2 = linha(2, 5, ' ')\n",
    "print(resultado_2)  # Saída: ' 01210 '"
   ]
  },
  {
   "cell_type": "markdown",
   "id": "3ccafe11",
   "metadata": {},
   "source": [
    "### Adicionando Interatividade com interact\n",
    "Utilizamos a função interact da biblioteca ipywidgets para criar interfaces interativas que permitem ajustar os parâmetros da função linha dinamicamente:\n"
   ]
  },
  {
   "cell_type": "code",
   "execution_count": 23,
   "id": "2d0ab74d",
   "metadata": {},
   "outputs": [
    {
     "data": {
      "application/vnd.jupyter.widget-view+json": {
       "model_id": "ae3b31adc1f447c2b6425a0113306e98",
       "version_major": 2,
       "version_minor": 0
      },
      "text/plain": [
       "interactive(children=(IntSlider(value=4, description='n', max=9), IntSlider(value=9, description='largura', ma…"
      ]
     },
     "metadata": {},
     "output_type": "display_data"
    },
    {
     "data": {
      "text/plain": [
       "'  0  '"
      ]
     },
     "execution_count": 23,
     "metadata": {},
     "output_type": "execute_result"
    }
   ],
   "source": [
    "# Importando a função interact\n",
    "from ipywidgets import interact\n",
    "\n",
    "# Cria um controle interativo para a função `linha`\n",
    "interact(linha, n=(0, 9, 1), largura=(0, 9 * 2 + 1, 1))\n",
    "\n",
    "# Teste de verificação\n",
    "assert linha(0, 5) == \"  0  \"  # Testa com n = 0 e largura = 5\n",
    "assert linha(1, 5) == \" 010 \"  # Testa com n = 1 e largura = 5\n",
    "assert linha(2, 5) == \"01210\"  # Testa com n = 2 e largura = 5\n",
    "\n",
    "resultado_0 = linha(0, 5, ' ')\n",
    "resultado_0"
   ]
  },
  {
   "cell_type": "markdown",
   "id": "ffb18317",
   "metadata": {},
   "source": [
    "Benefícios do interact!\n",
    "\n",
    "A função interact simplifica a criação de interfaces de usuário para exploração interativa de código e dados, tornando-se uma ferramenta valiosa para testes rápidos e aprendizado."
   ]
  },
  {
   "cell_type": "markdown",
   "id": "3f2c8feb",
   "metadata": {},
   "source": [
    "## Como Gerar o Losango com uma Pilha de Linhas?\n",
    "\n",
    "Construir um losango envolve gerar uma série de linhas de texto centradas que formam o padrão visual desejado. A função `losango` gerencia esse processo ao construir cada linha e juntá-las em um formato que representa o losango.\n",
    "\n",
    "### Função `losango`\n",
    "\n",
    "A função `losango` cria um losango de texto a partir de um tamanho dado, que define tanto a largura máxima quanto o número de linhas:"
   ]
  },
  {
   "cell_type": "code",
   "execution_count": 24,
   "id": "6f83ec77",
   "metadata": {},
   "outputs": [
    {
     "data": {
      "text/plain": [
       "'  0  \\n 010 \\n01210\\n 010 \\n  0  '"
      ]
     },
     "execution_count": 24,
     "metadata": {},
     "output_type": "execute_result"
    }
   ],
   "source": [
    "def losango(tamanho):\n",
    "    largura = tamanho * 2 + 1  # Calcula a largura baseada no tamanho máximo do losango\n",
    "\n",
    "    # Gera os números necessários para cada linha do losango\n",
    "    numeros = intervalo(tamanho)\n",
    "    linhas = []\n",
    "\n",
    "    # Constrói cada linha centralizada e as armazena em uma lista\n",
    "    for n in numeros:\n",
    "        linhas.append(linha(n, largura))\n",
    "\n",
    "    # Junta todas as linhas em uma única string, separadas por quebras de linha\n",
    "    return \"\\n\".join(linhas)\n",
    "\n",
    "    # Teste de verificação\n",
    "assert losango(2) == (\n",
    "    \"  0  \\n\" \" 010 \\n\" \"01210\\n\" \" 010 \\n\" \"  0  \"\n",
    ")  # Verifica se o losango gerado está correto para tamanho 2\n",
    "\n",
    "\n",
    "resultado = losango(2)\n",
    "resultado  # Saída: '  0  \\n 010 \\n01210\\n 010 \\n  0  '"
   ]
  },
  {
   "cell_type": "markdown",
   "id": "c178900b",
   "metadata": {},
   "source": [
    "Visualização do Losango!\n",
    "\n",
    "Este método permite a visualização clara do losango, mostrando como as funções de centralização e de geração de intervalo trabalham juntas para criar uma forma geométrica simétrica a partir de texto."
   ]
  },
  {
   "cell_type": "markdown",
   "id": "46f86485",
   "metadata": {},
   "source": [
    "### Adicionando Interatividade com `interact`\n",
    "\n",
    "A função `interact` do módulo `ipywidgets` é uma ferramenta poderosa que permite criar interfaces de usuário interativas diretamente no Jupyter Notebook. Ela pode ser usada para alterar parâmetros e visualizar resultados em tempo real.\n",
    "\n",
    "#### Uso de `interact` com Função Lambda\n",
    "\n",
    "Para visualizar o losango numérico de maneira interativa, utilizamos `interact` juntamente com uma função `lambda` que permite a execução imediata de código sem a necessidade de definir uma função separada:"
   ]
  },
  {
   "cell_type": "code",
   "execution_count": 25,
   "id": "0078ea34",
   "metadata": {},
   "outputs": [
    {
     "data": {
      "application/vnd.jupyter.widget-view+json": {
       "model_id": "f3e53102011149669bc3ecbe786f5f95",
       "version_major": 2,
       "version_minor": 0
      },
      "text/plain": [
       "interactive(children=(IntSlider(value=4, description='n', max=9), Output()), _dom_classes=('widget-interact',)…"
      ]
     },
     "metadata": {},
     "output_type": "display_data"
    },
    {
     "data": {
      "text/plain": [
       "'  0  \\n 010 \\n01210\\n 010 \\n  0  '"
      ]
     },
     "execution_count": 25,
     "metadata": {},
     "output_type": "execute_result"
    }
   ],
   "source": [
    "from ipywidgets import interact\n",
    "\n",
    "# Cria uma interface interativa para a função losango\n",
    "# A função lambda é usada para imprimir o resultado diretamente\n",
    "interact(lambda n: print(losango(n)), n=(0, 9, 1))\n",
    "\n",
    "\n",
    "resultado = losango(2)\n",
    "resultado  # Saída: '  0  \\n 010 \\n01210\\n 010 \\n  0  '"
   ]
  },
  {
   "cell_type": "markdown",
   "id": "41558351",
   "metadata": {},
   "source": [
    "Funcionamento do interact:\n",
    "\n",
    "Função Lambda: A função lambda é usada aqui para encapsular a chamada à função losango, permitindo a impressão direta do resultado. Isso é útil porque interact normalmente lida com o retorno de valores, mas no caso de querermos visualizar a saída diretamente, o print é necessário.\n",
    "Parâmetro n: O n é um controle deslizante criado automaticamente pelo interact, que permite ao usuário ajustar o valor de n de 0 a 9. Cada mudança no controle deslizante invoca a função lambda, que por sua vez chama losango(n) e imprime o resultado.\n",
    "Benefícios do Uso de interact\n",
    "Utilizar interact para esta visualização proporciona uma maneira dinâmica e envolvente de interagir com o código Python. Permite aos usuários:\n",
    "\n",
    "Visualizar imediatamente os efeitos das mudanças nos parâmetros.\n",
    "Entender melhor a dinâmica e o resultado das funções utilizadas.\n",
    "Aprender conceitos de programação de forma mais interativa e prática."
   ]
  },
  {
   "cell_type": "markdown",
   "id": "bc1a6ed8",
   "metadata": {},
   "source": [
    "### Melhorias e Integração das Funções\n",
    "\n",
    "A função `losango` foi refinada para utilizar expressões geradoras e garantir uma implementação mais eficiente e limpa. Abaixo estão as definições das funções e testes atualizados que compõem o processo de geração do losango numérico.\n",
    "\n",
    "#### Função `losango`\n",
    "\n",
    "A função `losango` compila as operações para gerar um losango completo baseado no tamanho especificado:"
   ]
  },
  {
   "cell_type": "code",
   "execution_count": null,
   "id": "43be8267",
   "metadata": {},
   "outputs": [
    {
     "data": {
      "text/plain": [
       "'  0  \\n 010 \\n01210\\n 010 \\n  0  '"
      ]
     },
     "execution_count": 27,
     "metadata": {},
     "output_type": "execute_result"
    }
   ],
   "source": [
    "def losango(tamanho, separador=\" \"):\n",
    "    largura = tamanho * 2 + 1\n",
    "    return \"\\n\".join(linha(n, largura, separador) for n in intervalo(tamanho))\n",
    "\n",
    "# Teste de verificação\n",
    "assert losango(2) == (\n",
    "    \"  0  \\n\" \" 010 \\n\" \"01210\\n\" \" 010 \\n\" \"  0  \"\n",
    ")  # Verifica se o losango gerado está correto para tamanho 2\n",
    "\n",
    "resultado = losango(2)\n",
    "resultado  # Saída: '  0  \\n 010 \\n01210\\n 010 \\n  0  '\n"
   ]
  },
  {
   "cell_type": "markdown",
   "id": "a1783387",
   "metadata": {},
   "source": [
    "Interatividade com interact\n",
    "A função interact foi configurada para permitir ajustes dinâmicos nos parâmetros do losango, melhorando a experiência do usuário:"
   ]
  },
  {
   "cell_type": "code",
   "execution_count": 28,
   "id": "55bc3325",
   "metadata": {},
   "outputs": [
    {
     "data": {
      "application/vnd.jupyter.widget-view+json": {
       "model_id": "9929421339924929844728369567c36e",
       "version_major": 2,
       "version_minor": 0
      },
      "text/plain": [
       "interactive(children=(IntSlider(value=4, description='n', max=9), Text(value='', description='sep'), Output())…"
      ]
     },
     "metadata": {},
     "output_type": "display_data"
    }
   ],
   "source": [
    "from ipywidgets import interact\n",
    "\n",
    "# Permite ao usuário ajustar o tamanho do losango e o separador utilizado\n",
    "interact(lambda n, sep: print(losango(n, sep)), n=(0, 9, 1), sep=\"\")\n",
    "\n",
    "resultado = losango(2)"
   ]
  },
  {
   "cell_type": "markdown",
   "id": "0f2d4db3",
   "metadata": {},
   "source": [
    "Visão Geral do Código Integrado\n",
    "Aqui está como todas as funções trabalham juntas para gerar um losango de texto:\n",
    "\n",
    "Função intervalo: Gera uma sequência numérica.\n",
    "Função texto: Converte a sequência numérica em uma string.\n",
    "Função linha: Gera uma linha de texto centralizada.\n",
    "Função losango: Compila todas as linhas em um formato de losango.\n",
    "Essa estrutura modular facilita a manutenção do código e permite ajustes e testes individuais de cada componente."
   ]
  }
 ],
 "metadata": {
  "kernelspec": {
   "display_name": ".venv",
   "language": "python",
   "name": "python3"
  },
  "language_info": {
   "codemirror_mode": {
    "name": "ipython",
    "version": 3
   },
   "file_extension": ".py",
   "mimetype": "text/x-python",
   "name": "python",
   "nbconvert_exporter": "python",
   "pygments_lexer": "ipython3",
   "version": "3.12.11"
  }
 },
 "nbformat": 4,
 "nbformat_minor": 5
}
