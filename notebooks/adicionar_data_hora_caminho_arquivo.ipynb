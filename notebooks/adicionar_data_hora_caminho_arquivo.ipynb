{
 "cells": [
  {
   "cell_type": "markdown",
   "metadata": {},
   "source": [
    "# Adicionar data/hora ao nome de arquivos\n",
    "\n",
    "- **Problema**: Muitas vezes precisamos versionar/exportar arquivos (ex.: relatórios, backups, datasets) sem sobrescrever o anterior. Uma prática simples e eficaz é inserir um timestamp (data/hora) no nome do arquivo.\n",
    "- **Objetivo**: Dado um caminho de arquivo (`/caminho/arquivo.ext`), gerar um novo caminho cujo nome contenha um timestamp, como `YYYY_MM_DD_HH_MM_SS#arquivo.ext` (prefixo) ou `arquivo-YYYY_MM_DD_HH_MM_SS.ext` (sufixo).\n",
    "- **Solução**: Criamos a função `timestamped_path` (e o alias compatível `st`) que:\n",
    "  - permite escolher **prefixo** ou **sufixo**;\n",
    "  - aceita **separador** customizável (padrão `#`);\n",
    "  - permite **formato** de data/hora via `strftime`;\n",
    "  - retorna `Path` por padrão ou `str` com `as_str=True`.\n",
    "\n",
    "> Este notebook demonstra a utilidade, documentação curta e exemplos de uso para aplicar rapidamente em seus scripts.\n",
    "\n"
   ]
  },
  {
   "cell_type": "code",
   "execution_count": 1,
   "metadata": {},
   "outputs": [],
   "source": [
    "from __future__ import annotations\n",
    "from pathlib import Path\n",
    "from datetime import datetime\n",
    "from typing import Literal, Optional, Union\n",
    "\n",
    "\n",
    "def timestamped_path(\n",
    "    path: Union[str, Path],\n",
    "    *,\n",
    "    position: Literal[\"prefix\", \"suffix\"] = \"prefix\",\n",
    "    separator: str = \"#\",\n",
    "    dt: Optional[datetime] = None,\n",
    "    fmt: str = \"%Y_%m_%d_%H_%M_%S\",\n",
    "    as_str: bool = False,\n",
    ") -> Union[Path, str]:\n",
    "    \"\"\"\n",
    "    Gera um novo caminho com timestamp no nome do arquivo.\n",
    "\n",
    "    - path: caminho original (str ou Path)\n",
    "    - position: onde colocar o timestamp (\"prefix\" ou \"suffix\")\n",
    "    - separator: texto entre timestamp e nome\n",
    "    - dt: datetime a usar (padrão: agora)\n",
    "    - fmt: formato do timestamp (strftime)\n",
    "    - as_str: se True, retorna str; caso contrário, Path\n",
    "\n",
    "    Exemplo\n",
    "    -------\n",
    "    >>> timestamped_path(\"/tmp/relatorio.csv\")\n",
    "    PosixPath('/tmp/2025_09_29_10_20_15#relatorio.csv')\n",
    "\n",
    "    >>> timestamped_path(\"/tmp/relatorio.csv\", position=\"suffix\", separator=\"-\")\n",
    "    PosixPath('/tmp/relatorio-2025_09_29_10_20_15.csv')\n",
    "    \"\"\"\n",
    "    original_path = Path(path)\n",
    "    timestamp = (dt or datetime.now()).strftime(fmt)\n",
    "\n",
    "    if position == \"prefix\":\n",
    "        new_stem = f\"{timestamp}{separator}{original_path.stem}\"\n",
    "    else:\n",
    "        new_stem = f\"{original_path.stem}{separator}{timestamp}\"\n",
    "\n",
    "    new_name = f\"{new_stem}{original_path.suffix}\"\n",
    "    new_path = original_path.with_name(new_name)\n",
    "\n",
    "    return str(new_path) if as_str else new_path\n",
    "\n",
    "\n",
    "def st(path: Union[str, Path], last: bool = True, sep: str = \"#\") -> str:\n",
    "    \"\"\"\n",
    "    Compat: assinatura antiga. last=True -> timestamp como prefixo.\n",
    "    Retorna str para manter compatibilidade.\n",
    "    \"\"\"\n",
    "    return timestamped_path(\n",
    "        path,\n",
    "        position=\"prefix\" if last else \"suffix\",\n",
    "        separator=sep,\n",
    "        as_str=True,\n",
    "    )\n",
    "\n",
    "\n",
    "__all__ = [\"timestamped_path\", \"st\"]\n"
   ]
  },
  {
   "cell_type": "markdown",
   "metadata": {},
   "source": [
    "### Utilidade: inserir timestamp em nomes de arquivos\n",
    "\n",
    "- **Função principal**: `timestamped_path(path, position=\"prefix\"|\"suffix\", separator=\"#\", fmt=\"%Y_%m_%d_%H_%M_%S\")`\n",
    "- **Compatibilidade**: alias `st` mantido.\n",
    "- **Retorno**: `pathlib.Path` (padrão) ou `str` com `as_str=True`."
   ]
  },
  {
   "cell_type": "code",
   "execution_count": 2,
   "metadata": {},
   "outputs": [
    {
     "name": "stdout",
     "output_type": "stream",
     "text": [
      "/tmp/2025_09_29_10_29_07#relatorio.csv\n",
      "/tmp/relatorio-2025_09_29_10_29_07.csv\n",
      "/tmp/20250929#relatorio.csv\n"
     ]
    }
   ],
   "source": [
    "# Exemplos de uso\n",
    "p = \"/tmp/relatorio.csv\"\n",
    "print(timestamped_path(p))\n",
    "print(timestamped_path(p, position=\"suffix\", separator=\"-\"))\n",
    "print(timestamped_path(p, fmt=\"%Y%m%d\", as_str=True))\n"
   ]
  }
 ],
 "metadata": {
  "kernelspec": {
   "display_name": ".venv",
   "language": "python",
   "name": "python3"
  },
  "language_info": {
   "codemirror_mode": {
    "name": "ipython",
    "version": 3
   },
   "file_extension": ".py",
   "mimetype": "text/x-python",
   "name": "python",
   "nbconvert_exporter": "python",
   "pygments_lexer": "ipython3",
   "version": "3.12.11"
  }
 },
 "nbformat": 4,
 "nbformat_minor": 2
}
