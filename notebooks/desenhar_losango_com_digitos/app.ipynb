{
 "cells": [
  {
   "cell_type": "markdown",
   "id": "88687f79",
   "metadata": {},
   "source": [
    "# 🎯 Desenhar um Losango com Dígitos\n",
    "\n",
    "Este notebook apresenta uma abordagem passo a passo para criar um losango numérico usando Python, demonstrando conceitos importantes de programação como decomposição de problemas, formatação de strings e expressões geradoras."
   ]
  },
  {
   "cell_type": "markdown",
   "id": "6e2e9571",
   "metadata": {},
   "source": [
    "## 🎯 O Desafio\n",
    "\n",
    "**Objetivo:** Criar um losango numérico onde cada linha contém uma sequência de dígitos que cresce até o centro e depois decresce.\n",
    "\n",
    "**Exemplo de saída para N=2:**\n",
    "```\n",
    "  0  \n",
    " 010 \n",
    "01210\n",
    " 010 \n",
    "  0  \n",
    "```\n",
    "\n",
    "### 💡 Estratégias de Resolução\n",
    "\n",
    "#### ❌ Abordagem Direta (Não Recomendada)\n",
    "- Tentar resolver tudo de uma vez\n",
    "- Resulta em código complexo e difícil de manter\n",
    "- Maior chance de erros\n",
    "\n",
    "#### ✅ Abordagem Incremental (Recomendada)\n",
    "- Decompor o problema em etapas menores\n",
    "- Cada etapa resolve um aspecto específico\n",
    "- Facilita testes e depuração\n",
    "- Código mais limpo e reutilizável\n",
    "\n",
    "### 🎯 Nossa Estratégia\n",
    "\n",
    "Vamos dividir o problema em 5 etapas principais:\n",
    "1. **Centralizar texto** - Alinhar números no centro da linha\n",
    "2. **Gerar sequência** - Criar padrão 0...N...0\n",
    "3. **Converter para texto** - Transformar números em string\n",
    "4. **Criar linha** - Combinar sequência + centralização\n",
    "5. **Montar losango** - Empilhar todas as linhas\n"
   ]
  },
  {
   "cell_type": "markdown",
   "id": "13372304",
   "metadata": {},
   "source": [
    "## 📋 Índice do Tutorial\n",
    "\n",
    "1. [🔧 Centralizar Texto](#centralizar)\n",
    "2. [🔢 Gerar Sequência Numérica](#sequencia)\n",
    "3. [📝 Converter para Texto](#converter)\n",
    "4. [📏 Criar Linha](#linha)\n",
    "5. [💎 Montar Losango](#losango)\n",
    "6. [🎮 Interface Interativa](#interativa)\n",
    "\n",
    "---\n"
   ]
  },
  {
   "cell_type": "markdown",
   "id": "bce0e442",
   "metadata": {},
   "source": [
    "## 🔧 Centralizar Texto {#centralizar}\n",
    "\n",
    "Para criar um losango visualmente agradável, precisamos centralizar cada linha de números. Vamos implementar uma função que adiciona espaços nas laterais para alinhar o texto no centro.\n",
    "\n",
    "### 💡 Conceito\n",
    "A centralização funciona calculando quantos espaços adicionar nas laterais:\n",
    "- **Margem** = `(largura_total - largura_do_texto) ÷ 2`\n",
    "\n",
    "### 🛠️ Implementação"
   ]
  },
  {
   "cell_type": "code",
   "execution_count": 1,
   "id": "35315a99",
   "metadata": {},
   "outputs": [
    {
     "name": "stdout",
     "output_type": "stream",
     "text": [
      "' 01234 '\n"
     ]
    }
   ],
   "source": [
    "def centraliza(texto, largura):\n",
    "    \"\"\"\n",
    "    Centraliza um texto dentro de uma largura especificada.\n",
    "\n",
    "    Args:\n",
    "        texto (str): O texto a ser centralizado\n",
    "        largura (int): A largura total desejada\n",
    "\n",
    "    Returns:\n",
    "        str: Texto centralizado com espaços nas laterais\n",
    "    \"\"\"\n",
    "    margem = (largura - len(texto)) // 2\n",
    "    return ' ' * margem + texto + ' ' * margem\n",
    "\n",
    "# Exemplo de uso\n",
    "resultado = centraliza('01234', 8)\n",
    "print(f\"'{resultado}'\")  # Saída: '01234'"
   ]
  },
  {
   "cell_type": "markdown",
   "id": "e02242be",
   "metadata": {},
   "source": [
    "# Testes de verificação"
   ]
  },
  {
   "cell_type": "code",
   "execution_count": 2,
   "id": "83ded076",
   "metadata": {},
   "outputs": [
    {
     "name": "stdout",
     "output_type": "stream",
     "text": [
      "✅ Todos os testes passaram!\n"
     ]
    }
   ],
   "source": [
    "assert centraliza(\"0\", 6) == \"  0  \"  # Testa centralização de um único caractere\n",
    "assert centraliza(\"012\", 6) == \" 012 \"  # Testa centralização de três caracteres\n",
    "assert centraliza(\"01234\", 6) == \"01234\"  # Testa centralização sem margens adicionais\n",
    "\n",
    "print(\"✅ Todos os testes passaram!\")"
   ]
  },
  {
   "cell_type": "markdown",
   "id": "c7f26ff0",
   "metadata": {},
   "source": [
    "### 🎨 Versões Alternativas\n",
    "\n",
    "**Versão com format():**\n",
    "```python\n",
    "def centraliza(texto, largura):\n",
    "    return \"{:^{}}\".format(texto, largura)\n",
    "```"
   ]
  },
  {
   "cell_type": "markdown",
   "id": "6ab0dd0c",
   "metadata": {},
   "source": [
    "**Versão com f-string (mais moderna):**"
   ]
  },
  {
   "cell_type": "code",
   "execution_count": 4,
   "id": "922f0abb",
   "metadata": {},
   "outputs": [
    {
     "name": "stdout",
     "output_type": "stream",
     "text": [
      "' 01234 '\n"
     ]
    }
   ],
   "source": [
    "def centraliza(texto, largura, separador=\" \"):\n",
    "    margem = (largura - len(texto)) // 2\n",
    "    return separador * margem + texto + separador * margem\n",
    "\n",
    "\n",
    "resultado = centraliza('01234', 8, ' ')\n",
    "print(f\"'{resultado}'\")  # Saída: '01234'"
   ]
  },
  {
   "cell_type": "markdown",
   "id": "35bac26f",
   "metadata": {},
   "source": [
    "---"
   ]
  },
  {
   "cell_type": "markdown",
   "id": "f5367d1e",
   "metadata": {},
   "source": [
    "## 🔢 Gerar Sequência Numérica {#sequencia}\n",
    "\n",
    "# Agora vamos criar a sequência numérica que forma cada linha do losango. Precisamos de um padrão que cresce de 0 até N e depois decresce até 0.\n",
    "\n",
    "### 💡 Conceito\n",
    "Para N=2, queremos: `[0, 1, 2, 1, 0]`\n",
    "- Primeira parte: `range(0, N+1)` → `[0, 1, 2]`\n",
    "- Segunda parte: `range(N-1, -1, -1)` → `[1, 0]`\n",
    "- Combinadas: `[0, 1, 2, 1, 0]`\n",
    "\n",
    "### 🛠️ Implementação\n",
    "\n",
    "def intervalo(n):\n",
    "    \"\"\"\n",
    "    Gera uma sequência numérica que cresce de 0 até n e depois decresce até 0.\n",
    "    \n",
    "    Args:\n",
    "        n (int): O número máximo da sequência\n",
    "        \n",
    "    Returns:\n",
    "        list: Lista com o padrão [0, 1, 2, ..., n, ..., 2, 1, 0]\n",
    "    \"\"\"\n",
    "    return [*range(n), *range(n, -1, -1)]"
   ]
  },
  {
   "cell_type": "markdown",
   "id": "6b9be3ed",
   "metadata": {},
   "source": [
    "# Exemplos"
   ]
  },
  {
   "cell_type": "code",
   "execution_count": 5,
   "id": "647133ea",
   "metadata": {},
   "outputs": [
    {
     "name": "stdout",
     "output_type": "stream",
     "text": [
      "N=0: [0]\n",
      "N=1: [0, 1, 0]\n",
      "N=2: [0, 1, 2, 1, 0]\n"
     ]
    }
   ],
   "source": [
    "def intervalo(n):\n",
    "    \"\"\"\n",
    "    Gera uma sequência numérica que cresce de 0 até n e depois decresce até 0.\n",
    "\n",
    "    Args:\n",
    "        n (int): O número máximo da sequência\n",
    "\n",
    "    Returns:\n",
    "        list: Lista com o padrão [0, 1, 2, ..., n, ..., 2, 1, 0]\n",
    "    \"\"\"\n",
    "    return [*range(n), *range(n, -1, -1)]\n",
    "\n",
    "# Exemplos\n",
    "print(f\"N=0: {intervalo(0)}\")  # [0]\n",
    "print(f\"N=1: {intervalo(1)}\")  # [0, 1, 0]\n",
    "print(f\"N=2: {intervalo(2)}\")  # [0, 1, 2, 1, 0]"
   ]
  },
  {
   "cell_type": "markdown",
   "id": "95f781ca",
   "metadata": {},
   "source": [
    "# Testes de verificação"
   ]
  },
  {
   "cell_type": "code",
   "execution_count": 6,
   "id": "16e2b37b",
   "metadata": {},
   "outputs": [
    {
     "name": "stdout",
     "output_type": "stream",
     "text": [
      "✅ Todos os testes da função intervalo passaram!\n"
     ]
    }
   ],
   "source": [
    "# Testes de verificação\n",
    "assert intervalo(0) == [0]\n",
    "assert intervalo(1) == [0, 1, 0]\n",
    "assert intervalo(2) == [0, 1, 2, 1, 0]\n",
    "assert intervalo(3) == [0, 1, 2, 3, 2, 1, 0]\n",
    "\n",
    "print(\"✅ Todos os testes da função intervalo passaram!\")"
   ]
  },
  {
   "cell_type": "markdown",
   "id": "80f47b96",
   "metadata": {},
   "source": [
    "---"
   ]
  },
  {
   "cell_type": "markdown",
   "id": "6d54243f",
   "metadata": {},
   "source": [
    "## 📝 Converter para Texto {#converter}\n",
    "\n",
    "Agora vamos transformar a sequência numérica em uma string. Vamos usar técnicas eficientes para evitar problemas de performance.\n",
    "\n",
    "### 💡 Conceito\n",
    "Converter `[0, 1, 2, 1, 0]` → `\"01210\"`\n",
    "\n",
    "### ⚠️ Problema com Concatenação Direta\n",
    "```python\n",
    "# ❌ Ineficiente - cria nova string a cada concatenação\n",
    "s = \"\"\n",
    "for n in numeros:\n",
    "    s += str(n)  # Lento para listas grandes\n",
    "```\n",
    "\n",
    "### ✅ Solução Eficiente com join()\n",
    "```python\n",
    "# ✅ Eficiente - concatena tudo de uma vez\n",
    "\"\".join(str(n) for n in numeros)\n",
    "```\n",
    "\n",
    "### 🛠️ Implementação"
   ]
  },
  {
   "cell_type": "code",
   "execution_count": 7,
   "id": "48b795a0",
   "metadata": {},
   "outputs": [
    {
     "name": "stdout",
     "output_type": "stream",
     "text": [
      "text([0,1,2,1,0]) = '01210'\n",
      "text(intervalo(2)) = '01210'\n"
     ]
    }
   ],
   "source": [
    "def text(numeros):\n",
    "    \"\"\"\n",
    "    Converte uma lista de números em uma string.\n",
    "\n",
    "    Args:\n",
    "        numeros (list): Lista de números inteiros\n",
    "\n",
    "    Returns:\n",
    "        str: String com todos os números concatenados\n",
    "    \"\"\"\n",
    "    return \"\".join(str(n) for n in numeros)\n",
    "\n",
    "# Exemplos\n",
    "print(f\"text([0,1,2,1,0]) = '{text([0,1,2,1,0])}'\")\n",
    "print(f\"text(intervalo(2)) = '{text(intervalo(2))}'\")"
   ]
  },
  {
   "cell_type": "markdown",
   "id": "8f5b9775",
   "metadata": {},
   "source": [
    "# Testes de verificação"
   ]
  },
  {
   "cell_type": "code",
   "execution_count": 8,
   "id": "10774e3d",
   "metadata": {},
   "outputs": [
    {
     "name": "stdout",
     "output_type": "stream",
     "text": [
      "✅ Todos os testes da função text passaram!\n"
     ]
    }
   ],
   "source": [
    "assert text([0, 1, 2, 1, 0]) == \"01210\"\n",
    "assert text(intervalo(2)) == \"01210\"\n",
    "assert text(intervalo(9)) == \"0123456789876543210\"\n",
    "\n",
    "print(\"✅ Todos os testes da função text passaram!\")"
   ]
  },
  {
   "cell_type": "markdown",
   "id": "42804139",
   "metadata": {},
   "source": [
    "---"
   ]
  },
  {
   "cell_type": "markdown",
   "id": "0af25eca",
   "metadata": {},
   "source": [
    "## 📏 Criar Linha {#linha}\n",
    "\n",
    "Agora vamos combinar as funções anteriores para criar uma linha centralizada do losango.\n",
    "\n",
    "### 💡 Conceito\n",
    "Para N=2 e largura=5:\n",
    "1. Gerar sequência: `intervalo(2)` → `[0,1,2,1,0]`\n",
    "2. Converter para texto: `text([0,1,2,1,0])` → `\"01210\"`\n",
    "3. Centralizar: `centraliza(\"01210\", 5)` → `\"01210\"`\n",
    "\n",
    "### 🛠️ Implementação"
   ]
  },
  {
   "cell_type": "code",
   "execution_count": 9,
   "id": "e9986f01",
   "metadata": {},
   "outputs": [
    {
     "name": "stdout",
     "output_type": "stream",
     "text": [
      "linha(0, 5) = '  0  '\n",
      "linha(1, 5) = ' 010 '\n",
      "linha(2, 5) = '01210'\n"
     ]
    }
   ],
   "source": [
    "def linha(n, largura, separador=\" \"):\n",
    "    \"\"\"\n",
    "    Cria uma linha centralizada do losango.\n",
    "\n",
    "    Args:\n",
    "        n (int): O número máximo da sequência\n",
    "        largura (int): A largura total da linha\n",
    "        separador()\n",
    "\n",
    "    Returns:\n",
    "        str: Linha centralizada com a sequência numérica\n",
    "    \"\"\"\n",
    "    return centraliza(text(intervalo(n)), largura, separador)\n",
    "    # return centraliza(text(intervalo(n)), largura)\n",
    "\n",
    "\n",
    "# Exemplos\n",
    "print(f\"linha(0, 5) = '{linha(0, 5)}'\")  # \"  0  \"\n",
    "print(f\"linha(1, 5) = '{linha(1, 5)}'\")  # \" 010 \"\n",
    "print(f\"linha(2, 5) = '{linha(2, 5)}'\")  # \"01210\""
   ]
  },
  {
   "cell_type": "markdown",
   "id": "87db5153",
   "metadata": {},
   "source": [
    "# Testes de verificação"
   ]
  },
  {
   "cell_type": "code",
   "execution_count": 10,
   "id": "6c84dcf5",
   "metadata": {},
   "outputs": [
    {
     "name": "stdout",
     "output_type": "stream",
     "text": [
      "✅ Todos os testes da função linha passaram!\n"
     ]
    }
   ],
   "source": [
    "assert linha(0, 5) == \"  0  \"\n",
    "assert linha(1, 5) == \" 010 \"\n",
    "assert linha(2, 5) == \"01210\"\n",
    "\n",
    "print(\"✅ Todos os testes da função linha passaram!\")"
   ]
  },
  {
   "cell_type": "markdown",
   "id": "876545e3",
   "metadata": {},
   "source": [
    "---"
   ]
  },
  {
   "cell_type": "markdown",
   "id": "efb185fb",
   "metadata": {},
   "source": [
    "## 💎 Montar Losango {#losango}\n",
    "\n",
    "Agora vamos combinar todas as linhas para formar o losango completo!\n",
    "\n",
    "### 💡 Conceito\n",
    "\n",
    "Para N=2, precisamos das linhas:\n",
    "- `linha(0, 5)` → `\"  0  \"`\n",
    "- `linha(1, 5)` → `\" 010 \"`\n",
    "- `linha(2, 5)` → `\"01210\"`\n",
    "- `linha(1, 5)` → `\" 010 \"`\n",
    "- `linha(0, 5)` → `\"  0  \"`\n",
    "\n",
    "### 🛠️ Implementação\n",
    "\n",
    "def losango(tamanho):\n",
    "    \"\"\"\n",
    "    Cria um losango numérico completo.\n",
    "    \n",
    "    Args:\n",
    "        tamanho (int): O tamanho máximo do losango\n",
    "        \n",
    "    Returns:\n",
    "        str: Losango formatado com quebras de linha\n",
    "    \"\"\"\n",
    "    largura = tamanho * 2 + 1\n",
    "    return \"\\n\".join(linha(n, largura) for n in intervalo(tamanho))"
   ]
  },
  {
   "cell_type": "markdown",
   "id": "6982cc3b",
   "metadata": {},
   "source": [
    "# Exemplo"
   ]
  },
  {
   "cell_type": "code",
   "execution_count": 11,
   "id": "ed3d4f4e",
   "metadata": {},
   "outputs": [
    {
     "name": "stdout",
     "output_type": "stream",
     "text": [
      "=== Losango com Espaços (padrão) ===\n",
      "   0   \n",
      "  010  \n",
      " 01210 \n",
      "0123210\n",
      " 01210 \n",
      "  010  \n",
      "   0   \n",
      "\n",
      "=== Losango com Pontos ===\n",
      "...0...\n",
      "..010..\n",
      ".01210.\n",
      "0123210\n",
      ".01210.\n",
      "..010..\n",
      "...0...\n",
      "\n",
      "=== Losango com Hífens ===\n",
      "---0---\n",
      "--010--\n",
      "-01210-\n",
      "0123210\n",
      "-01210-\n",
      "--010--\n",
      "---0---\n",
      "\n",
      "=== Losango com Asteriscos ===\n",
      "***0***\n",
      "**010**\n",
      "*01210*\n",
      "0123210\n",
      "*01210*\n",
      "**010**\n",
      "***0***\n",
      "\n",
      "=== Losango com Iguals ===\n",
      "===0===\n",
      "==010==\n",
      "=01210=\n",
      "0123210\n",
      "=01210=\n",
      "==010==\n",
      "===0===\n"
     ]
    }
   ],
   "source": [
    "def losango(tamanho, separador=\" \"):\n",
    "    \"\"\"\n",
    "    Cria um losango numérico completo.\n",
    "\n",
    "    Args:\n",
    "        tamanho (int): O tamanho máximo do losango\n",
    "        separador (str): Caractere usado para centralizar (padrão: espaço)\n",
    "\n",
    "    Returns:\n",
    "        str: Losango formatado com quebras de linha\n",
    "    \"\"\"\n",
    "    largura = tamanho * 2 + 1\n",
    "    return \"\\n\".join(linha(n, largura, separador) for n in intervalo(tamanho))\n",
    "\n",
    "\n",
    "print(\"=== Losango com Espaços (padrão) ===\")\n",
    "print(losango(3))\n",
    "print(\"\\n=== Losango com Pontos ===\")\n",
    "print(losango(3, \".\"))\n",
    "print(\"\\n=== Losango com Hífens ===\")\n",
    "print(losango(3, \"-\"))\n",
    "print(\"\\n=== Losango com Asteriscos ===\")\n",
    "print(losango(3, \"*\"))\n",
    "print(\"\\n=== Losango com Iguals ===\")\n",
    "print(losango(3, \"=\"))"
   ]
  },
  {
   "cell_type": "markdown",
   "id": "969ea11f",
   "metadata": {},
   "source": [
    "# Teste de verificação"
   ]
  },
  {
   "cell_type": "code",
   "execution_count": 12,
   "id": "e67e101c",
   "metadata": {},
   "outputs": [
    {
     "name": "stdout",
     "output_type": "stream",
     "text": [
      "✅ Teste do losango passou!\n",
      "\n",
      "Losango para N=3:\n",
      "   0   \n",
      "  010  \n",
      " 01210 \n",
      "0123210\n",
      " 01210 \n",
      "  010  \n",
      "   0   \n"
     ]
    }
   ],
   "source": [
    "expected = \"  0  \\n 010 \\n01210\\n 010 \\n  0  \"\n",
    "assert losango(2) == expected\n",
    "\n",
    "print(\"✅ Teste do losango passou!\")\n",
    "print(\"\\nLosango para N=3:\")\n",
    "print(losango(3))"
   ]
  },
  {
   "cell_type": "markdown",
   "id": "a3dffe63",
   "metadata": {},
   "source": [
    "---"
   ]
  },
  {
   "cell_type": "markdown",
   "id": "5e3b3b3a",
   "metadata": {},
   "source": [
    "## 🎮 Interface Interativa {#interativa}\n",
    "\n",
    "Agora vamos criar uma interface interativa para explorar diferentes tamanhos de losango!\n",
    "\n",
    "### 🛠️ Implementação"
   ]
  },
  {
   "cell_type": "code",
   "execution_count": 13,
   "id": "998eb18d",
   "metadata": {},
   "outputs": [
    {
     "data": {
      "application/vnd.jupyter.widget-view+json": {
       "model_id": "14f1b12d8942452a94303663d0226d0d",
       "version_major": 2,
       "version_minor": 0
      },
      "text/plain": [
       "interactive(children=(IntSlider(value=4, description='n', max=9), Dropdown(description='sep', options=(' ', '.…"
      ]
     },
     "metadata": {},
     "output_type": "display_data"
    },
    {
     "data": {
      "text/plain": [
       "<function __main__.<lambda>(n, sep)>"
      ]
     },
     "execution_count": 13,
     "metadata": {},
     "output_type": "execute_result"
    }
   ],
   "source": [
    "from ipywidgets import interact\n",
    "\n",
    "# Interface interativa para explorar diferentes tamanhos e separadores\n",
    "interact(lambda n, sep: print(losango(n, sep)),\n",
    "         n=(0, 9, 1),\n",
    "         sep=[\" \", \".\", \"-\", \"*\", \"=\"])"
   ]
  },
  {
   "cell_type": "markdown",
   "id": "b255773a",
   "metadata": {},
   "source": [
    "---"
   ]
  },
  {
   "cell_type": "markdown",
   "id": "74f0b49a",
   "metadata": {},
   "source": [
    "## 🎉 Resumo\n",
    "\n",
    "Parabéns! Você aprendeu a criar um losango numérico usando Python. Aqui está o que construímos:\n",
    "\n",
    "### 📚 Conceitos Aprendidos\n",
    "- **Decomposição de problemas** - Dividir um problema complexo em partes menores\n",
    "- **Formatação de strings** - Centralizar texto com espaços\n",
    "- **Expressões geradoras** - Criar sequências eficientemente\n",
    "- **Funções modulares** - Cada função tem uma responsabilidade específica\n",
    "- **Testes automatizados** - Verificar se o código funciona corretamente\n",
    "\n",
    "### 🔧 Funções Criadas\n",
    "1. `centraliza(texto, largura, separador)` - Centraliza texto\n",
    "2. `intervalo(n)` - Gera sequência 0...n...0\n",
    "3. `text(numeros)` - Converte números em string\n",
    "4. `linha(n, largura, separador)` - Cria uma linha do losango\n",
    "5. `losango(tamanho, separador)` - Monta o losango completo\n",
    "\n",
    "### 🚀 Próximos Passos\n",
    "- Experimente com diferentes tamanhos e separadores usando a interface interativa\n",
    "- Teste separadores criativos como `\"#\"`, `\"@\"`, `\"~\"`, `\"+\"`\n",
    "- Modifique as funções para criar outros padrões geométricos\n",
    "- Adicione cores ou caracteres especiais ao losango\n",
    "- Crie losangos com bordas duplas usando separadores como `\"==\"`"
   ]
  }
 ],
 "metadata": {
  "kernelspec": {
   "display_name": ".venv",
   "language": "python",
   "name": "python3"
  },
  "language_info": {
   "codemirror_mode": {
    "name": "ipython",
    "version": 3
   },
   "file_extension": ".py",
   "mimetype": "text/x-python",
   "name": "python",
   "nbconvert_exporter": "python",
   "pygments_lexer": "ipython3",
   "version": "3.12.11"
  }
 },
 "nbformat": 4,
 "nbformat_minor": 5
}
